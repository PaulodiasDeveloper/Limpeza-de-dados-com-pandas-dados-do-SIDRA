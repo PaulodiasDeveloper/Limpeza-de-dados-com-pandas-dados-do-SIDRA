{
  "cells": [
    {
      "cell_type": "code",
      "execution_count": 1,
      "metadata": {
        "id": "sCbrk3ZcEbFi"
      },
      "outputs": [],
      "source": [
        "import pandas as pd\n",
        "import numpy as np\n",
        "pd.options.display.float_format = '{:.2f}'.format    # pandas: para todos os números aparecerem com duas casas decimais"
      ]
    },
    {
      "cell_type": "markdown",
      "metadata": {
        "id": "-8Gsyh3NmLB_"
      },
      "source": [
        "Para salvar os dados:\n",
        "- fui em https://sidra.ibge.gov.br/tabela/6957\n",
        "- selecionei quantidade produzida e valor da produção total de cana, milho, soja, sorgo e trigo (dados de 2017)\n",
        "- em todas as opções eu escolhi Total\n",
        "- 'unidade territorial': municípios\n",
        "- fiz o download da planilha como xlsx\n",
        "- o nome do arquivo ficou 'tabela6957.xlsx'"
      ]
    },
    {
      "cell_type": "markdown",
      "metadata": {
        "id": "-4dRneeNyFj-"
      },
      "source": [
        "# Quantidade produzida (toneladas) em 2017"
      ]
    },
    {
      "cell_type": "markdown",
      "metadata": {
        "id": "dKjLONzEjrZq"
      },
      "source": [
        "Antes, carregar os dados no ambiente colab (na pastinha à esquerda, fazer upload do arquivo tabela6957.xlsx)."
      ]
    },
    {
      "cell_type": "code",
      "execution_count": 2,
      "metadata": {
        "id": "GQqltvnie_wG"
      },
      "outputs": [],
      "source": [
        "# sheet_name=0 significa a primeira planilha do arquivo\n",
        "df = pd.read_excel('tabela6957.xlsx', sheet_name=0)"
      ]
    },
    {
      "cell_type": "markdown",
      "metadata": {
        "id": "gidcSUj1t8Oa"
      },
      "source": [
        "Vamos ver as primeiras linhas do *dataframe*:"
      ]
    },
    {
      "cell_type": "code",
      "execution_count": 3,
      "metadata": {
        "colab": {
          "base_uri": "https://localhost:8080/",
          "height": 449
        },
        "id": "P2mt8oQWfRWr",
        "outputId": "a1cfe1c9-a72e-48b0-ee42-8a49091201d1"
      },
      "outputs": [
        {
          "data": {
            "application/vnd.microsoft.datawrangler.viewer.v0+json": {
              "columns": [
                {
                  "name": "index",
                  "rawType": "int64",
                  "type": "integer"
                },
                {
                  "name": "Tabela 6957 - Produção, Valor da produção, Venda, Valor da venda e Área colhida da lavoura temporária nos estabelecimentos agropecuários, por tipologia, produtos da lavoura temporária, condição do produtor em relação às terras e grupos de atividade econômica",
                  "rawType": "object",
                  "type": "unknown"
                },
                {
                  "name": "Unnamed: 1",
                  "rawType": "object",
                  "type": "unknown"
                },
                {
                  "name": "Unnamed: 2",
                  "rawType": "object",
                  "type": "unknown"
                },
                {
                  "name": "Unnamed: 3",
                  "rawType": "object",
                  "type": "unknown"
                },
                {
                  "name": "Unnamed: 4",
                  "rawType": "object",
                  "type": "unknown"
                },
                {
                  "name": "Unnamed: 5",
                  "rawType": "object",
                  "type": "unknown"
                },
                {
                  "name": "Unnamed: 6",
                  "rawType": "object",
                  "type": "unknown"
                },
                {
                  "name": "Unnamed: 7",
                  "rawType": "object",
                  "type": "unknown"
                },
                {
                  "name": "Unnamed: 8",
                  "rawType": "object",
                  "type": "unknown"
                },
                {
                  "name": "Unnamed: 9",
                  "rawType": "object",
                  "type": "unknown"
                }
              ],
              "ref": "33a2a83e-5183-4520-88a4-d12192e8a5f3",
              "rows": [
                [
                  "0",
                  "Variável - Quantidade produzida nas lavouras temporárias (Toneladas)",
                  null,
                  null,
                  null,
                  null,
                  null,
                  null,
                  null,
                  null,
                  null
                ],
                [
                  "1",
                  "Nível",
                  "Cód.",
                  "Município e Mesorregião Geográfica",
                  "Condição do produtor em relação às terras",
                  "Grupos de atividade econômica",
                  "Ano x Tipologia x Produtos da lavoura temporária",
                  null,
                  null,
                  null,
                  null
                ],
                [
                  "2",
                  null,
                  null,
                  null,
                  null,
                  null,
                  "2017",
                  null,
                  null,
                  null,
                  null
                ],
                [
                  "3",
                  null,
                  null,
                  null,
                  null,
                  null,
                  "Total",
                  null,
                  null,
                  null,
                  null
                ],
                [
                  "4",
                  null,
                  null,
                  null,
                  null,
                  null,
                  "Cana-de-açúcar",
                  "Milho em grão",
                  "Soja em grão",
                  "Sorgo em grão",
                  "Trigo em grão"
                ]
              ],
              "shape": {
                "columns": 10,
                "rows": 5
              }
            },
            "text/html": [
              "<div>\n",
              "<style scoped>\n",
              "    .dataframe tbody tr th:only-of-type {\n",
              "        vertical-align: middle;\n",
              "    }\n",
              "\n",
              "    .dataframe tbody tr th {\n",
              "        vertical-align: top;\n",
              "    }\n",
              "\n",
              "    .dataframe thead th {\n",
              "        text-align: right;\n",
              "    }\n",
              "</style>\n",
              "<table border=\"1\" class=\"dataframe\">\n",
              "  <thead>\n",
              "    <tr style=\"text-align: right;\">\n",
              "      <th></th>\n",
              "      <th>Tabela 6957 - Produção, Valor da produção, Venda, Valor da venda e Área colhida da lavoura temporária nos estabelecimentos agropecuários, por tipologia, produtos da lavoura temporária, condição do produtor em relação às terras e grupos de atividade econômica</th>\n",
              "      <th>Unnamed: 1</th>\n",
              "      <th>Unnamed: 2</th>\n",
              "      <th>Unnamed: 3</th>\n",
              "      <th>Unnamed: 4</th>\n",
              "      <th>Unnamed: 5</th>\n",
              "      <th>Unnamed: 6</th>\n",
              "      <th>Unnamed: 7</th>\n",
              "      <th>Unnamed: 8</th>\n",
              "      <th>Unnamed: 9</th>\n",
              "    </tr>\n",
              "  </thead>\n",
              "  <tbody>\n",
              "    <tr>\n",
              "      <th>0</th>\n",
              "      <td>Variável - Quantidade produzida nas lavouras t...</td>\n",
              "      <td>NaN</td>\n",
              "      <td>NaN</td>\n",
              "      <td>NaN</td>\n",
              "      <td>NaN</td>\n",
              "      <td>NaN</td>\n",
              "      <td>NaN</td>\n",
              "      <td>NaN</td>\n",
              "      <td>NaN</td>\n",
              "      <td>NaN</td>\n",
              "    </tr>\n",
              "    <tr>\n",
              "      <th>1</th>\n",
              "      <td>Nível</td>\n",
              "      <td>Cód.</td>\n",
              "      <td>Município e Mesorregião Geográfica</td>\n",
              "      <td>Condição do produtor em relação às terras</td>\n",
              "      <td>Grupos de atividade econômica</td>\n",
              "      <td>Ano x Tipologia x Produtos da lavoura temporária</td>\n",
              "      <td>NaN</td>\n",
              "      <td>NaN</td>\n",
              "      <td>NaN</td>\n",
              "      <td>NaN</td>\n",
              "    </tr>\n",
              "    <tr>\n",
              "      <th>2</th>\n",
              "      <td>NaN</td>\n",
              "      <td>NaN</td>\n",
              "      <td>NaN</td>\n",
              "      <td>NaN</td>\n",
              "      <td>NaN</td>\n",
              "      <td>2017</td>\n",
              "      <td>NaN</td>\n",
              "      <td>NaN</td>\n",
              "      <td>NaN</td>\n",
              "      <td>NaN</td>\n",
              "    </tr>\n",
              "    <tr>\n",
              "      <th>3</th>\n",
              "      <td>NaN</td>\n",
              "      <td>NaN</td>\n",
              "      <td>NaN</td>\n",
              "      <td>NaN</td>\n",
              "      <td>NaN</td>\n",
              "      <td>Total</td>\n",
              "      <td>NaN</td>\n",
              "      <td>NaN</td>\n",
              "      <td>NaN</td>\n",
              "      <td>NaN</td>\n",
              "    </tr>\n",
              "    <tr>\n",
              "      <th>4</th>\n",
              "      <td>NaN</td>\n",
              "      <td>NaN</td>\n",
              "      <td>NaN</td>\n",
              "      <td>NaN</td>\n",
              "      <td>NaN</td>\n",
              "      <td>Cana-de-açúcar</td>\n",
              "      <td>Milho em grão</td>\n",
              "      <td>Soja em grão</td>\n",
              "      <td>Sorgo em grão</td>\n",
              "      <td>Trigo em grão</td>\n",
              "    </tr>\n",
              "  </tbody>\n",
              "</table>\n",
              "</div>"
            ],
            "text/plain": [
              "  Tabela 6957 - Produção, Valor da produção, Venda, Valor da venda e Área colhida da lavoura temporária nos estabelecimentos agropecuários, por tipologia, produtos da lavoura temporária, condição do produtor em relação às terras e grupos de atividade econômica  \\\n",
              "0  Variável - Quantidade produzida nas lavouras t...                                                                                                                                                                                                                   \n",
              "1                                              Nível                                                                                                                                                                                                                   \n",
              "2                                                NaN                                                                                                                                                                                                                   \n",
              "3                                                NaN                                                                                                                                                                                                                   \n",
              "4                                                NaN                                                                                                                                                                                                                   \n",
              "\n",
              "  Unnamed: 1                          Unnamed: 2  \\\n",
              "0        NaN                                 NaN   \n",
              "1       Cód.  Município e Mesorregião Geográfica   \n",
              "2        NaN                                 NaN   \n",
              "3        NaN                                 NaN   \n",
              "4        NaN                                 NaN   \n",
              "\n",
              "                                  Unnamed: 3                     Unnamed: 4  \\\n",
              "0                                        NaN                            NaN   \n",
              "1  Condição do produtor em relação às terras  Grupos de atividade econômica   \n",
              "2                                        NaN                            NaN   \n",
              "3                                        NaN                            NaN   \n",
              "4                                        NaN                            NaN   \n",
              "\n",
              "                                         Unnamed: 5     Unnamed: 6  \\\n",
              "0                                               NaN            NaN   \n",
              "1  Ano x Tipologia x Produtos da lavoura temporária            NaN   \n",
              "2                                              2017            NaN   \n",
              "3                                             Total            NaN   \n",
              "4                                    Cana-de-açúcar  Milho em grão   \n",
              "\n",
              "     Unnamed: 7     Unnamed: 8     Unnamed: 9  \n",
              "0           NaN            NaN            NaN  \n",
              "1           NaN            NaN            NaN  \n",
              "2           NaN            NaN            NaN  \n",
              "3           NaN            NaN            NaN  \n",
              "4  Soja em grão  Sorgo em grão  Trigo em grão  "
            ]
          },
          "execution_count": 3,
          "metadata": {},
          "output_type": "execute_result"
        }
      ],
      "source": [
        "df.head()"
      ]
    },
    {
      "cell_type": "markdown",
      "metadata": {
        "id": "RMpxqTCbZptK"
      },
      "source": [
        "Vamos realizar algumas alterações:\n",
        "\n",
        "- começar a ler da linha 6, ou seja, vamos pular 5 linhas\n",
        "- a última linha também é desnecessária, vamos desconsiderá-la\n",
        "- não queremos ler as colunas 0, 3 e 4 (Nível, Condições, Grupos de atividade econômica)\n",
        "- para ajudar a visualizar os dados, vamos já alterar os nomes das colunas"
      ]
    },
    {
      "cell_type": "code",
      "execution_count": 4,
      "metadata": {
        "colab": {
          "base_uri": "https://localhost:8080/"
        },
        "id": "0wqCzkH4ej68",
        "outputId": "699bd0dc-04cd-4ef2-e668-922cbb7dc3e4"
      },
      "outputs": [
        {
          "data": {
            "text/plain": [
              "[1, 2, 5, 6, 7, 8, 9]"
            ]
          },
          "execution_count": 4,
          "metadata": {},
          "output_type": "execute_result"
        }
      ],
      "source": [
        "# criar uma lista com os índices das colunas a retirar\n",
        "pular = [0, 3, 4]\n",
        "# criar uma lista com os índices das colunas a manter\n",
        "cols = [i for i in range(len(df.columns)) if i not in pular]\n",
        "# índices das colunas a manter\n",
        "cols"
      ]
    },
    {
      "cell_type": "code",
      "execution_count": 5,
      "metadata": {
        "id": "Z0gEJYfuaE4d"
      },
      "outputs": [],
      "source": [
        "# ler os dados desconsiderando as 5 primeiras linhas e a última linha\n",
        "# considerar as colunas que estão na lista 'cols'\n",
        "df = pd.read_excel('tabela6957.xlsx', skiprows=5, skipfooter=1, usecols=cols, sheet_name=0)\n",
        "# alterar os nomes das colunas\n",
        "df.columns = ['mun', 'nome_mun', 'cana', 'milho', 'soja', 'sorgo', 'trigo']"
      ]
    },
    {
      "cell_type": "code",
      "execution_count": 6,
      "metadata": {
        "colab": {
          "base_uri": "https://localhost:8080/",
          "height": 206
        },
        "id": "1OC0SuMzeGy_",
        "outputId": "ec1cd761-4d93-4106-e2bd-51b83aec4f54"
      },
      "outputs": [
        {
          "data": {
            "application/vnd.microsoft.datawrangler.viewer.v0+json": {
              "columns": [
                {
                  "name": "index",
                  "rawType": "int64",
                  "type": "integer"
                },
                {
                  "name": "mun",
                  "rawType": "int64",
                  "type": "integer"
                },
                {
                  "name": "nome_mun",
                  "rawType": "object",
                  "type": "string"
                },
                {
                  "name": "cana",
                  "rawType": "object",
                  "type": "unknown"
                },
                {
                  "name": "milho",
                  "rawType": "object",
                  "type": "unknown"
                },
                {
                  "name": "soja",
                  "rawType": "object",
                  "type": "unknown"
                },
                {
                  "name": "sorgo",
                  "rawType": "object",
                  "type": "string"
                },
                {
                  "name": "trigo",
                  "rawType": "object",
                  "type": "string"
                }
              ],
              "ref": "a58000c7-8044-4836-b82a-66a73c23266e",
              "rows": [
                [
                  "0",
                  "1100015",
                  "Alta Floresta D'Oeste (RO)",
                  "52",
                  "5479",
                  "2800",
                  "-",
                  "-"
                ],
                [
                  "1",
                  "1100023",
                  "Ariquemes (RO)",
                  "952",
                  "3440",
                  "9553",
                  "-",
                  "-"
                ],
                [
                  "2",
                  "1100031",
                  "Cabixi (RO)",
                  "74",
                  "49175",
                  "73522",
                  "-",
                  "-"
                ],
                [
                  "3",
                  "1100049",
                  "Cacoal (RO)",
                  "260",
                  "2588",
                  "3349",
                  "-",
                  "-"
                ],
                [
                  "4",
                  "1100056",
                  "Cerejeiras (RO)",
                  "97",
                  "118034",
                  "110910",
                  "X",
                  "-"
                ]
              ],
              "shape": {
                "columns": 7,
                "rows": 5
              }
            },
            "text/html": [
              "<div>\n",
              "<style scoped>\n",
              "    .dataframe tbody tr th:only-of-type {\n",
              "        vertical-align: middle;\n",
              "    }\n",
              "\n",
              "    .dataframe tbody tr th {\n",
              "        vertical-align: top;\n",
              "    }\n",
              "\n",
              "    .dataframe thead th {\n",
              "        text-align: right;\n",
              "    }\n",
              "</style>\n",
              "<table border=\"1\" class=\"dataframe\">\n",
              "  <thead>\n",
              "    <tr style=\"text-align: right;\">\n",
              "      <th></th>\n",
              "      <th>mun</th>\n",
              "      <th>nome_mun</th>\n",
              "      <th>cana</th>\n",
              "      <th>milho</th>\n",
              "      <th>soja</th>\n",
              "      <th>sorgo</th>\n",
              "      <th>trigo</th>\n",
              "    </tr>\n",
              "  </thead>\n",
              "  <tbody>\n",
              "    <tr>\n",
              "      <th>0</th>\n",
              "      <td>1100015</td>\n",
              "      <td>Alta Floresta D'Oeste (RO)</td>\n",
              "      <td>52</td>\n",
              "      <td>5479</td>\n",
              "      <td>2800</td>\n",
              "      <td>-</td>\n",
              "      <td>-</td>\n",
              "    </tr>\n",
              "    <tr>\n",
              "      <th>1</th>\n",
              "      <td>1100023</td>\n",
              "      <td>Ariquemes (RO)</td>\n",
              "      <td>952</td>\n",
              "      <td>3440</td>\n",
              "      <td>9553</td>\n",
              "      <td>-</td>\n",
              "      <td>-</td>\n",
              "    </tr>\n",
              "    <tr>\n",
              "      <th>2</th>\n",
              "      <td>1100031</td>\n",
              "      <td>Cabixi (RO)</td>\n",
              "      <td>74</td>\n",
              "      <td>49175</td>\n",
              "      <td>73522</td>\n",
              "      <td>-</td>\n",
              "      <td>-</td>\n",
              "    </tr>\n",
              "    <tr>\n",
              "      <th>3</th>\n",
              "      <td>1100049</td>\n",
              "      <td>Cacoal (RO)</td>\n",
              "      <td>260</td>\n",
              "      <td>2588</td>\n",
              "      <td>3349</td>\n",
              "      <td>-</td>\n",
              "      <td>-</td>\n",
              "    </tr>\n",
              "    <tr>\n",
              "      <th>4</th>\n",
              "      <td>1100056</td>\n",
              "      <td>Cerejeiras (RO)</td>\n",
              "      <td>97</td>\n",
              "      <td>118034</td>\n",
              "      <td>110910</td>\n",
              "      <td>X</td>\n",
              "      <td>-</td>\n",
              "    </tr>\n",
              "  </tbody>\n",
              "</table>\n",
              "</div>"
            ],
            "text/plain": [
              "       mun                    nome_mun cana   milho    soja sorgo trigo\n",
              "0  1100015  Alta Floresta D'Oeste (RO)   52    5479    2800     -     -\n",
              "1  1100023              Ariquemes (RO)  952    3440    9553     -     -\n",
              "2  1100031                 Cabixi (RO)   74   49175   73522     -     -\n",
              "3  1100049                 Cacoal (RO)  260    2588    3349     -     -\n",
              "4  1100056             Cerejeiras (RO)   97  118034  110910     X     -"
            ]
          },
          "execution_count": 6,
          "metadata": {},
          "output_type": "execute_result"
        }
      ],
      "source": [
        "df.head()"
      ]
    },
    {
      "cell_type": "markdown",
      "metadata": {
        "id": "gJDQm-ynmze5"
      },
      "source": [
        "Número de observações e variáveis do conjunto de dados:"
      ]
    },
    {
      "cell_type": "code",
      "execution_count": 7,
      "metadata": {
        "colab": {
          "base_uri": "https://localhost:8080/"
        },
        "id": "0DUzab8XmyMf",
        "outputId": "75423e51-c73d-4ca2-9493-d92acfd32cfc"
      },
      "outputs": [
        {
          "data": {
            "text/plain": [
              "(5692, 7)"
            ]
          },
          "execution_count": 7,
          "metadata": {},
          "output_type": "execute_result"
        }
      ],
      "source": [
        "df.shape"
      ]
    },
    {
      "cell_type": "markdown",
      "metadata": {
        "id": "JFdwlSkikKm2"
      },
      "source": [
        "- A coluna 'município' tem o nome do município e, entre parênteses, a sigla do estado.\n",
        "- Vamos usar a função str.split para dividir o conteúdo a partir de '(':"
      ]
    },
    {
      "cell_type": "code",
      "execution_count": 8,
      "metadata": {
        "colab": {
          "base_uri": "https://localhost:8080/",
          "height": 206
        },
        "id": "gf0MO7LlfxLj",
        "outputId": "cd63885c-3c32-48ec-9709-01d913663a1a"
      },
      "outputs": [
        {
          "data": {
            "application/vnd.microsoft.datawrangler.viewer.v0+json": {
              "columns": [
                {
                  "name": "index",
                  "rawType": "int64",
                  "type": "integer"
                },
                {
                  "name": "mun",
                  "rawType": "int64",
                  "type": "integer"
                },
                {
                  "name": "nome_mun",
                  "rawType": "object",
                  "type": "string"
                },
                {
                  "name": "cana",
                  "rawType": "object",
                  "type": "unknown"
                },
                {
                  "name": "milho",
                  "rawType": "object",
                  "type": "unknown"
                },
                {
                  "name": "soja",
                  "rawType": "object",
                  "type": "unknown"
                },
                {
                  "name": "sorgo",
                  "rawType": "object",
                  "type": "string"
                },
                {
                  "name": "trigo",
                  "rawType": "object",
                  "type": "string"
                },
                {
                  "name": "uf",
                  "rawType": "object",
                  "type": "string"
                }
              ],
              "ref": "8c9f2fb3-5063-4442-81f3-c9ad60262e17",
              "rows": [
                [
                  "0",
                  "1100015",
                  "Alta Floresta D'Oeste ",
                  "52",
                  "5479",
                  "2800",
                  "-",
                  "-",
                  "RO)"
                ],
                [
                  "1",
                  "1100023",
                  "Ariquemes ",
                  "952",
                  "3440",
                  "9553",
                  "-",
                  "-",
                  "RO)"
                ],
                [
                  "2",
                  "1100031",
                  "Cabixi ",
                  "74",
                  "49175",
                  "73522",
                  "-",
                  "-",
                  "RO)"
                ],
                [
                  "3",
                  "1100049",
                  "Cacoal ",
                  "260",
                  "2588",
                  "3349",
                  "-",
                  "-",
                  "RO)"
                ],
                [
                  "4",
                  "1100056",
                  "Cerejeiras ",
                  "97",
                  "118034",
                  "110910",
                  "X",
                  "-",
                  "RO)"
                ]
              ],
              "shape": {
                "columns": 8,
                "rows": 5
              }
            },
            "text/html": [
              "<div>\n",
              "<style scoped>\n",
              "    .dataframe tbody tr th:only-of-type {\n",
              "        vertical-align: middle;\n",
              "    }\n",
              "\n",
              "    .dataframe tbody tr th {\n",
              "        vertical-align: top;\n",
              "    }\n",
              "\n",
              "    .dataframe thead th {\n",
              "        text-align: right;\n",
              "    }\n",
              "</style>\n",
              "<table border=\"1\" class=\"dataframe\">\n",
              "  <thead>\n",
              "    <tr style=\"text-align: right;\">\n",
              "      <th></th>\n",
              "      <th>mun</th>\n",
              "      <th>nome_mun</th>\n",
              "      <th>cana</th>\n",
              "      <th>milho</th>\n",
              "      <th>soja</th>\n",
              "      <th>sorgo</th>\n",
              "      <th>trigo</th>\n",
              "      <th>uf</th>\n",
              "    </tr>\n",
              "  </thead>\n",
              "  <tbody>\n",
              "    <tr>\n",
              "      <th>0</th>\n",
              "      <td>1100015</td>\n",
              "      <td>Alta Floresta D'Oeste</td>\n",
              "      <td>52</td>\n",
              "      <td>5479</td>\n",
              "      <td>2800</td>\n",
              "      <td>-</td>\n",
              "      <td>-</td>\n",
              "      <td>RO)</td>\n",
              "    </tr>\n",
              "    <tr>\n",
              "      <th>1</th>\n",
              "      <td>1100023</td>\n",
              "      <td>Ariquemes</td>\n",
              "      <td>952</td>\n",
              "      <td>3440</td>\n",
              "      <td>9553</td>\n",
              "      <td>-</td>\n",
              "      <td>-</td>\n",
              "      <td>RO)</td>\n",
              "    </tr>\n",
              "    <tr>\n",
              "      <th>2</th>\n",
              "      <td>1100031</td>\n",
              "      <td>Cabixi</td>\n",
              "      <td>74</td>\n",
              "      <td>49175</td>\n",
              "      <td>73522</td>\n",
              "      <td>-</td>\n",
              "      <td>-</td>\n",
              "      <td>RO)</td>\n",
              "    </tr>\n",
              "    <tr>\n",
              "      <th>3</th>\n",
              "      <td>1100049</td>\n",
              "      <td>Cacoal</td>\n",
              "      <td>260</td>\n",
              "      <td>2588</td>\n",
              "      <td>3349</td>\n",
              "      <td>-</td>\n",
              "      <td>-</td>\n",
              "      <td>RO)</td>\n",
              "    </tr>\n",
              "    <tr>\n",
              "      <th>4</th>\n",
              "      <td>1100056</td>\n",
              "      <td>Cerejeiras</td>\n",
              "      <td>97</td>\n",
              "      <td>118034</td>\n",
              "      <td>110910</td>\n",
              "      <td>X</td>\n",
              "      <td>-</td>\n",
              "      <td>RO)</td>\n",
              "    </tr>\n",
              "  </tbody>\n",
              "</table>\n",
              "</div>"
            ],
            "text/plain": [
              "       mun                nome_mun cana   milho    soja sorgo trigo   uf\n",
              "0  1100015  Alta Floresta D'Oeste    52    5479    2800     -     -  RO)\n",
              "1  1100023              Ariquemes   952    3440    9553     -     -  RO)\n",
              "2  1100031                 Cabixi    74   49175   73522     -     -  RO)\n",
              "3  1100049                 Cacoal   260    2588    3349     -     -  RO)\n",
              "4  1100056             Cerejeiras    97  118034  110910     X     -  RO)"
            ]
          },
          "execution_count": 8,
          "metadata": {},
          "output_type": "execute_result"
        }
      ],
      "source": [
        "# a opção 'expand=True' divide a string e já permite criar as colunas com os\n",
        "# conteúdos divididos\n",
        "df[['nome_mun', 'uf']] = df['nome_mun'].str.split('(', expand=True)\n",
        "df.head()"
      ]
    },
    {
      "cell_type": "markdown",
      "metadata": {
        "id": "gmZlSrqnlgov"
      },
      "source": [
        "- A coluna 'sigla_uf' tem o ')' no final.\n",
        "- Vamos usar a função str.replace para substituir ')' por nada\n",
        "- regex significa 'expressões regulares', uma sequência de caracteres que podem ser pesquisados, substituídos etc."
      ]
    },
    {
      "cell_type": "code",
      "execution_count": 9,
      "metadata": {
        "colab": {
          "base_uri": "https://localhost:8080/",
          "height": 206
        },
        "id": "mu_eXRVUgugO",
        "outputId": "debdeb6c-0146-4f36-92dc-079b433dee0d"
      },
      "outputs": [
        {
          "name": "stderr",
          "output_type": "stream",
          "text": [
            "<>:1: SyntaxWarning: invalid escape sequence '\\)'\n",
            "<>:1: SyntaxWarning: invalid escape sequence '\\)'\n",
            "C:\\Users\\paulo\\AppData\\Local\\Temp\\ipykernel_5280\\3198336564.py:1: SyntaxWarning: invalid escape sequence '\\)'\n",
            "  df['uf'] = df['uf'].str.replace('\\)', '', regex=True)\n"
          ]
        },
        {
          "data": {
            "application/vnd.microsoft.datawrangler.viewer.v0+json": {
              "columns": [
                {
                  "name": "index",
                  "rawType": "int64",
                  "type": "integer"
                },
                {
                  "name": "mun",
                  "rawType": "int64",
                  "type": "integer"
                },
                {
                  "name": "nome_mun",
                  "rawType": "object",
                  "type": "string"
                },
                {
                  "name": "cana",
                  "rawType": "object",
                  "type": "unknown"
                },
                {
                  "name": "milho",
                  "rawType": "object",
                  "type": "unknown"
                },
                {
                  "name": "soja",
                  "rawType": "object",
                  "type": "unknown"
                },
                {
                  "name": "sorgo",
                  "rawType": "object",
                  "type": "string"
                },
                {
                  "name": "trigo",
                  "rawType": "object",
                  "type": "string"
                },
                {
                  "name": "uf",
                  "rawType": "object",
                  "type": "string"
                }
              ],
              "ref": "20e8c24a-ed28-49e3-8de4-a1fc5242ed82",
              "rows": [
                [
                  "0",
                  "1100015",
                  "Alta Floresta D'Oeste ",
                  "52",
                  "5479",
                  "2800",
                  "-",
                  "-",
                  "RO"
                ],
                [
                  "1",
                  "1100023",
                  "Ariquemes ",
                  "952",
                  "3440",
                  "9553",
                  "-",
                  "-",
                  "RO"
                ],
                [
                  "2",
                  "1100031",
                  "Cabixi ",
                  "74",
                  "49175",
                  "73522",
                  "-",
                  "-",
                  "RO"
                ],
                [
                  "3",
                  "1100049",
                  "Cacoal ",
                  "260",
                  "2588",
                  "3349",
                  "-",
                  "-",
                  "RO"
                ],
                [
                  "4",
                  "1100056",
                  "Cerejeiras ",
                  "97",
                  "118034",
                  "110910",
                  "X",
                  "-",
                  "RO"
                ]
              ],
              "shape": {
                "columns": 8,
                "rows": 5
              }
            },
            "text/html": [
              "<div>\n",
              "<style scoped>\n",
              "    .dataframe tbody tr th:only-of-type {\n",
              "        vertical-align: middle;\n",
              "    }\n",
              "\n",
              "    .dataframe tbody tr th {\n",
              "        vertical-align: top;\n",
              "    }\n",
              "\n",
              "    .dataframe thead th {\n",
              "        text-align: right;\n",
              "    }\n",
              "</style>\n",
              "<table border=\"1\" class=\"dataframe\">\n",
              "  <thead>\n",
              "    <tr style=\"text-align: right;\">\n",
              "      <th></th>\n",
              "      <th>mun</th>\n",
              "      <th>nome_mun</th>\n",
              "      <th>cana</th>\n",
              "      <th>milho</th>\n",
              "      <th>soja</th>\n",
              "      <th>sorgo</th>\n",
              "      <th>trigo</th>\n",
              "      <th>uf</th>\n",
              "    </tr>\n",
              "  </thead>\n",
              "  <tbody>\n",
              "    <tr>\n",
              "      <th>0</th>\n",
              "      <td>1100015</td>\n",
              "      <td>Alta Floresta D'Oeste</td>\n",
              "      <td>52</td>\n",
              "      <td>5479</td>\n",
              "      <td>2800</td>\n",
              "      <td>-</td>\n",
              "      <td>-</td>\n",
              "      <td>RO</td>\n",
              "    </tr>\n",
              "    <tr>\n",
              "      <th>1</th>\n",
              "      <td>1100023</td>\n",
              "      <td>Ariquemes</td>\n",
              "      <td>952</td>\n",
              "      <td>3440</td>\n",
              "      <td>9553</td>\n",
              "      <td>-</td>\n",
              "      <td>-</td>\n",
              "      <td>RO</td>\n",
              "    </tr>\n",
              "    <tr>\n",
              "      <th>2</th>\n",
              "      <td>1100031</td>\n",
              "      <td>Cabixi</td>\n",
              "      <td>74</td>\n",
              "      <td>49175</td>\n",
              "      <td>73522</td>\n",
              "      <td>-</td>\n",
              "      <td>-</td>\n",
              "      <td>RO</td>\n",
              "    </tr>\n",
              "    <tr>\n",
              "      <th>3</th>\n",
              "      <td>1100049</td>\n",
              "      <td>Cacoal</td>\n",
              "      <td>260</td>\n",
              "      <td>2588</td>\n",
              "      <td>3349</td>\n",
              "      <td>-</td>\n",
              "      <td>-</td>\n",
              "      <td>RO</td>\n",
              "    </tr>\n",
              "    <tr>\n",
              "      <th>4</th>\n",
              "      <td>1100056</td>\n",
              "      <td>Cerejeiras</td>\n",
              "      <td>97</td>\n",
              "      <td>118034</td>\n",
              "      <td>110910</td>\n",
              "      <td>X</td>\n",
              "      <td>-</td>\n",
              "      <td>RO</td>\n",
              "    </tr>\n",
              "  </tbody>\n",
              "</table>\n",
              "</div>"
            ],
            "text/plain": [
              "       mun                nome_mun cana   milho    soja sorgo trigo  uf\n",
              "0  1100015  Alta Floresta D'Oeste    52    5479    2800     -     -  RO\n",
              "1  1100023              Ariquemes   952    3440    9553     -     -  RO\n",
              "2  1100031                 Cabixi    74   49175   73522     -     -  RO\n",
              "3  1100049                 Cacoal   260    2588    3349     -     -  RO\n",
              "4  1100056             Cerejeiras    97  118034  110910     X     -  RO"
            ]
          },
          "execution_count": 9,
          "metadata": {},
          "output_type": "execute_result"
        }
      ],
      "source": [
        "df['uf'] = df['uf'].str.replace('\\)', '', regex=True)\n",
        "df.head()"
      ]
    },
    {
      "cell_type": "code",
      "execution_count": 10,
      "metadata": {
        "colab": {
          "base_uri": "https://localhost:8080/"
        },
        "id": "tmNcEh5th7Zl",
        "outputId": "a1ee2f29-e347-42d2-908d-dcb0cf8f8d82"
      },
      "outputs": [
        {
          "data": {
            "text/plain": [
              "Index(['mun', 'nome_mun', 'cana', 'milho', 'soja', 'sorgo', 'trigo', 'uf'], dtype='object')"
            ]
          },
          "execution_count": 10,
          "metadata": {},
          "output_type": "execute_result"
        }
      ],
      "source": [
        "df.columns"
      ]
    },
    {
      "cell_type": "code",
      "execution_count": 11,
      "metadata": {
        "id": "kgjKtMwaaG0D"
      },
      "outputs": [],
      "source": [
        "# reorganizar as colunas\n",
        "df = df.loc[:, ['mun', 'nome_mun', 'uf', 'cana', 'milho', 'soja', 'sorgo', 'trigo']]"
      ]
    },
    {
      "cell_type": "markdown",
      "metadata": {
        "id": "nkVouqNbjAad"
      },
      "source": [
        "Há valores faltantes?"
      ]
    },
    {
      "cell_type": "code",
      "execution_count": 12,
      "metadata": {
        "colab": {
          "base_uri": "https://localhost:8080/",
          "height": 335
        },
        "id": "f8QeHtzRjDFc",
        "outputId": "9abe8240-2310-4bb9-9977-d6eacde8cd0d"
      },
      "outputs": [
        {
          "data": {
            "application/vnd.microsoft.datawrangler.viewer.v0+json": {
              "columns": [
                {
                  "name": "index",
                  "rawType": "object",
                  "type": "string"
                },
                {
                  "name": "0",
                  "rawType": "int64",
                  "type": "integer"
                }
              ],
              "ref": "60181131-7886-4f9f-bdc0-2c7815035ebf",
              "rows": [
                [
                  "mun",
                  "0"
                ],
                [
                  "nome_mun",
                  "0"
                ],
                [
                  "uf",
                  "0"
                ],
                [
                  "cana",
                  "0"
                ],
                [
                  "milho",
                  "0"
                ],
                [
                  "soja",
                  "0"
                ],
                [
                  "sorgo",
                  "0"
                ],
                [
                  "trigo",
                  "0"
                ]
              ],
              "shape": {
                "columns": 1,
                "rows": 8
              }
            },
            "text/plain": [
              "mun         0\n",
              "nome_mun    0\n",
              "uf          0\n",
              "cana        0\n",
              "milho       0\n",
              "soja        0\n",
              "sorgo       0\n",
              "trigo       0\n",
              "dtype: int64"
            ]
          },
          "execution_count": 12,
          "metadata": {},
          "output_type": "execute_result"
        }
      ],
      "source": [
        "df.isna().sum()"
      ]
    },
    {
      "cell_type": "code",
      "execution_count": 13,
      "metadata": {
        "colab": {
          "base_uri": "https://localhost:8080/"
        },
        "id": "N_nHq-tduptP",
        "outputId": "9f3889b7-a577-42f0-f789-43fbb2ffe5f8"
      },
      "outputs": [
        {
          "name": "stdout",
          "output_type": "stream",
          "text": [
            "cana   \n",
            "-          1005\n",
            "X           989\n",
            "3            40\n",
            "1            29\n",
            "4            27\n",
            "           ... \n",
            "6043664       1\n",
            "6116112       1\n",
            "6841834       1\n",
            "6953580       1\n",
            "7020248       1\n",
            "Name: count, Length: 2238, dtype: int64\n",
            "milho\n",
            "X        207\n",
            "-        110\n",
            "1         43\n",
            "6         32\n",
            "2         32\n",
            "        ... \n",
            "826        1\n",
            "825        1\n",
            "815        1\n",
            "814        1\n",
            "808        1\n",
            "Name: count, Length: 3105, dtype: int64\n",
            "soja   \n",
            "-          3157\n",
            "X           611\n",
            "5666          2\n",
            "0             2\n",
            "10166         2\n",
            "           ... \n",
            "1439525       1\n",
            "1455377       1\n",
            "1601913       1\n",
            "1779400       1\n",
            "1947391       1\n",
            "Name: count, Length: 1875, dtype: int64\n",
            "sorgo\n",
            "-        4401\n",
            "X         731\n",
            "1          17\n",
            "3          13\n",
            "4          11\n",
            "         ... \n",
            "18          1\n",
            "28          1\n",
            "30          1\n",
            "35          1\n",
            "31212       1\n",
            "Name: count, Length: 401, dtype: int64\n",
            "trigo  \n",
            "-          4687\n",
            "X           275\n",
            "432           4\n",
            "150           3\n",
            "124           2\n",
            "           ... \n",
            "339785        1\n",
            "435032        1\n",
            "1819377       1\n",
            "48            1\n",
            "18169         1\n",
            "Name: count, Length: 703, dtype: int64\n"
          ]
        }
      ],
      "source": [
        "print(df[['cana']].value_counts())\n",
        "print(df[['milho']].value_counts())\n",
        "print(df[['soja']].value_counts())\n",
        "print(df[['sorgo']].value_counts())\n",
        "print(df[['trigo']].value_counts())"
      ]
    },
    {
      "cell_type": "markdown",
      "metadata": {
        "id": "2VaFbg5Ts9p-"
      },
      "source": [
        "Nas notas da planilha, há as seguintes informações:\n",
        "\n",
        "* -: zero absoluto, não resultante de um cálculo ou arredondamento.\n",
        "* 0: zero resultante de um cálculo ou arredondamento.\n",
        "* X: valor inibido para não identificar o informante.\n",
        "* ..: valor não se aplica\n",
        "* ...: valor não disponível\n"
      ]
    },
    {
      "cell_type": "markdown",
      "metadata": {
        "id": "CKMKRF8bsZMr"
      },
      "source": [
        "Primeira abordagem: substituir todos esses valores por 0.\n",
        "\n",
        "Mas antes, vamos fazer uma cópia dos dados que já trabalhamos:"
      ]
    },
    {
      "cell_type": "code",
      "execution_count": 14,
      "metadata": {
        "id": "vM6mopM-tSWu"
      },
      "outputs": [],
      "source": [
        "df1 = df.copy()"
      ]
    },
    {
      "cell_type": "code",
      "execution_count": 15,
      "metadata": {
        "colab": {
          "base_uri": "https://localhost:8080/"
        },
        "id": "Ox2CveDvsatv",
        "outputId": "adfdb95d-c663-4e53-d533-0d3cbe8516f9"
      },
      "outputs": [
        {
          "name": "stderr",
          "output_type": "stream",
          "text": [
            "C:\\Users\\paulo\\AppData\\Local\\Temp\\ipykernel_5280\\4095862805.py:1: FutureWarning: Downcasting behavior in `replace` is deprecated and will be removed in a future version. To retain the old behavior, explicitly call `result.infer_objects(copy=False)`. To opt-in to the future behavior, set `pd.set_option('future.no_silent_downcasting', True)`\n",
            "  df1 = df1.replace(['-', '...', 'X'], 0)\n"
          ]
        }
      ],
      "source": [
        "df1 = df1.replace(['-', '...', 'X'], 0)"
      ]
    },
    {
      "cell_type": "markdown",
      "metadata": {
        "id": "tFVr4Z_Stdtk"
      },
      "source": [
        "Antes de limpar mais os dados, vamos visualizar o resumo estatístico:"
      ]
    },
    {
      "cell_type": "code",
      "execution_count": 16,
      "metadata": {
        "colab": {
          "base_uri": "https://localhost:8080/",
          "height": 300
        },
        "id": "Nk7go-pLsdNE",
        "outputId": "4e4702b4-8011-4859-f441-74e7af2cee92"
      },
      "outputs": [
        {
          "data": {
            "application/vnd.microsoft.datawrangler.viewer.v0+json": {
              "columns": [
                {
                  "name": "index",
                  "rawType": "object",
                  "type": "string"
                },
                {
                  "name": "cana",
                  "rawType": "float64",
                  "type": "float"
                },
                {
                  "name": "milho",
                  "rawType": "float64",
                  "type": "float"
                },
                {
                  "name": "soja",
                  "rawType": "float64",
                  "type": "float"
                },
                {
                  "name": "sorgo",
                  "rawType": "float64",
                  "type": "float"
                },
                {
                  "name": "trigo",
                  "rawType": "float64",
                  "type": "float"
                }
              ],
              "ref": "e65c7a8f-b93f-43f8-bf2a-b1d354f55df3",
              "rows": [
                [
                  "count",
                  "5692.0",
                  "5692.0",
                  "5692.0",
                  "5692.0",
                  "5692.0"
                ],
                [
                  "mean",
                  "217284.58591004918",
                  "30933.25720309206",
                  "36066.72470133521",
                  "557.2183766690091",
                  "1623.9689037245257"
                ],
                [
                  "std",
                  "2220612.0824118285",
                  "338455.9907568529",
                  "356441.094250662",
                  "10545.791452099682",
                  "26443.867164349856"
                ],
                [
                  "min",
                  "0.0",
                  "0.0",
                  "0.0",
                  "0.0",
                  "0.0"
                ],
                [
                  "25%",
                  "0.0",
                  "86.0",
                  "0.0",
                  "0.0",
                  "0.0"
                ],
                [
                  "50%",
                  "82.5",
                  "609.0",
                  "0.0",
                  "0.0",
                  "0.0"
                ],
                [
                  "75%",
                  "1707.25",
                  "5910.5",
                  "4435.5",
                  "0.0",
                  "0.0"
                ],
                [
                  "max",
                  "95001372.0",
                  "19689584.0",
                  "19108143.0",
                  "576145.0",
                  "1819377.0"
                ]
              ],
              "shape": {
                "columns": 5,
                "rows": 8
              }
            },
            "text/html": [
              "<div>\n",
              "<style scoped>\n",
              "    .dataframe tbody tr th:only-of-type {\n",
              "        vertical-align: middle;\n",
              "    }\n",
              "\n",
              "    .dataframe tbody tr th {\n",
              "        vertical-align: top;\n",
              "    }\n",
              "\n",
              "    .dataframe thead th {\n",
              "        text-align: right;\n",
              "    }\n",
              "</style>\n",
              "<table border=\"1\" class=\"dataframe\">\n",
              "  <thead>\n",
              "    <tr style=\"text-align: right;\">\n",
              "      <th></th>\n",
              "      <th>cana</th>\n",
              "      <th>milho</th>\n",
              "      <th>soja</th>\n",
              "      <th>sorgo</th>\n",
              "      <th>trigo</th>\n",
              "    </tr>\n",
              "  </thead>\n",
              "  <tbody>\n",
              "    <tr>\n",
              "      <th>count</th>\n",
              "      <td>5692.00</td>\n",
              "      <td>5692.00</td>\n",
              "      <td>5692.00</td>\n",
              "      <td>5692.00</td>\n",
              "      <td>5692.00</td>\n",
              "    </tr>\n",
              "    <tr>\n",
              "      <th>mean</th>\n",
              "      <td>217284.59</td>\n",
              "      <td>30933.26</td>\n",
              "      <td>36066.72</td>\n",
              "      <td>557.22</td>\n",
              "      <td>1623.97</td>\n",
              "    </tr>\n",
              "    <tr>\n",
              "      <th>std</th>\n",
              "      <td>2220612.08</td>\n",
              "      <td>338455.99</td>\n",
              "      <td>356441.09</td>\n",
              "      <td>10545.79</td>\n",
              "      <td>26443.87</td>\n",
              "    </tr>\n",
              "    <tr>\n",
              "      <th>min</th>\n",
              "      <td>0.00</td>\n",
              "      <td>0.00</td>\n",
              "      <td>0.00</td>\n",
              "      <td>0.00</td>\n",
              "      <td>0.00</td>\n",
              "    </tr>\n",
              "    <tr>\n",
              "      <th>25%</th>\n",
              "      <td>0.00</td>\n",
              "      <td>86.00</td>\n",
              "      <td>0.00</td>\n",
              "      <td>0.00</td>\n",
              "      <td>0.00</td>\n",
              "    </tr>\n",
              "    <tr>\n",
              "      <th>50%</th>\n",
              "      <td>82.50</td>\n",
              "      <td>609.00</td>\n",
              "      <td>0.00</td>\n",
              "      <td>0.00</td>\n",
              "      <td>0.00</td>\n",
              "    </tr>\n",
              "    <tr>\n",
              "      <th>75%</th>\n",
              "      <td>1707.25</td>\n",
              "      <td>5910.50</td>\n",
              "      <td>4435.50</td>\n",
              "      <td>0.00</td>\n",
              "      <td>0.00</td>\n",
              "    </tr>\n",
              "    <tr>\n",
              "      <th>max</th>\n",
              "      <td>95001372.00</td>\n",
              "      <td>19689584.00</td>\n",
              "      <td>19108143.00</td>\n",
              "      <td>576145.00</td>\n",
              "      <td>1819377.00</td>\n",
              "    </tr>\n",
              "  </tbody>\n",
              "</table>\n",
              "</div>"
            ],
            "text/plain": [
              "             cana       milho        soja     sorgo      trigo\n",
              "count     5692.00     5692.00     5692.00   5692.00    5692.00\n",
              "mean    217284.59    30933.26    36066.72    557.22    1623.97\n",
              "std    2220612.08   338455.99   356441.09  10545.79   26443.87\n",
              "min          0.00        0.00        0.00      0.00       0.00\n",
              "25%          0.00       86.00        0.00      0.00       0.00\n",
              "50%         82.50      609.00        0.00      0.00       0.00\n",
              "75%       1707.25     5910.50     4435.50      0.00       0.00\n",
              "max   95001372.00 19689584.00 19108143.00 576145.00 1819377.00"
            ]
          },
          "execution_count": 16,
          "metadata": {},
          "output_type": "execute_result"
        }
      ],
      "source": [
        "# resumo estatístico\n",
        "df1.iloc[:, 3:].describe()"
      ]
    },
    {
      "cell_type": "markdown",
      "metadata": {
        "id": "HjoNtzLWsYMw"
      },
      "source": [
        "Agora vamos adotar outra estratégia:\n",
        "- substituir por 0 se aparecer -\n",
        "- retirar as linhas em que aparecerem X, .. ou ...\n",
        "\n",
        "Vamos alterar o próprio *dataframe* df:"
      ]
    },
    {
      "cell_type": "code",
      "execution_count": 17,
      "metadata": {
        "colab": {
          "base_uri": "https://localhost:8080/",
          "height": 261
        },
        "id": "93SyUi9Baq8v",
        "outputId": "f3e16bf6-a687-48d5-a224-15279c16af4f"
      },
      "outputs": [
        {
          "name": "stderr",
          "output_type": "stream",
          "text": [
            "C:\\Users\\paulo\\AppData\\Local\\Temp\\ipykernel_5280\\3240402581.py:2: FutureWarning: Downcasting behavior in `replace` is deprecated and will be removed in a future version. To retain the old behavior, explicitly call `result.infer_objects(copy=False)`. To opt-in to the future behavior, set `pd.set_option('future.no_silent_downcasting', True)`\n",
            "  df = df.replace(['X', '..', '...'], np.nan).dropna(axis=0, how='any')\n"
          ]
        },
        {
          "data": {
            "application/vnd.microsoft.datawrangler.viewer.v0+json": {
              "columns": [
                {
                  "name": "index",
                  "rawType": "int64",
                  "type": "integer"
                },
                {
                  "name": "mun",
                  "rawType": "int64",
                  "type": "integer"
                },
                {
                  "name": "nome_mun",
                  "rawType": "object",
                  "type": "string"
                },
                {
                  "name": "uf",
                  "rawType": "object",
                  "type": "string"
                },
                {
                  "name": "cana",
                  "rawType": "float64",
                  "type": "float"
                },
                {
                  "name": "milho",
                  "rawType": "float64",
                  "type": "float"
                },
                {
                  "name": "soja",
                  "rawType": "float64",
                  "type": "float"
                },
                {
                  "name": "sorgo",
                  "rawType": "float64",
                  "type": "float"
                },
                {
                  "name": "trigo",
                  "rawType": "float64",
                  "type": "float"
                }
              ],
              "ref": "309f96d8-ebf1-4b5f-8b89-c1270ab12a4d",
              "rows": [
                [
                  "0",
                  "1100015",
                  "Alta Floresta D'Oeste ",
                  "RO",
                  "52.0",
                  "5479.0",
                  "2800.0",
                  "0.0",
                  "0.0"
                ],
                [
                  "1",
                  "1100023",
                  "Ariquemes ",
                  "RO",
                  "952.0",
                  "3440.0",
                  "9553.0",
                  "0.0",
                  "0.0"
                ],
                [
                  "2",
                  "1100031",
                  "Cabixi ",
                  "RO",
                  "74.0",
                  "49175.0",
                  "73522.0",
                  "0.0",
                  "0.0"
                ],
                [
                  "3",
                  "1100049",
                  "Cacoal ",
                  "RO",
                  "260.0",
                  "2588.0",
                  "3349.0",
                  "0.0",
                  "0.0"
                ],
                [
                  "5",
                  "1100064",
                  "Colorado do Oeste ",
                  "RO",
                  "195.0",
                  "3718.0",
                  "4587.0",
                  "0.0",
                  "0.0"
                ]
              ],
              "shape": {
                "columns": 8,
                "rows": 5
              }
            },
            "text/html": [
              "<div>\n",
              "<style scoped>\n",
              "    .dataframe tbody tr th:only-of-type {\n",
              "        vertical-align: middle;\n",
              "    }\n",
              "\n",
              "    .dataframe tbody tr th {\n",
              "        vertical-align: top;\n",
              "    }\n",
              "\n",
              "    .dataframe thead th {\n",
              "        text-align: right;\n",
              "    }\n",
              "</style>\n",
              "<table border=\"1\" class=\"dataframe\">\n",
              "  <thead>\n",
              "    <tr style=\"text-align: right;\">\n",
              "      <th></th>\n",
              "      <th>mun</th>\n",
              "      <th>nome_mun</th>\n",
              "      <th>uf</th>\n",
              "      <th>cana</th>\n",
              "      <th>milho</th>\n",
              "      <th>soja</th>\n",
              "      <th>sorgo</th>\n",
              "      <th>trigo</th>\n",
              "    </tr>\n",
              "  </thead>\n",
              "  <tbody>\n",
              "    <tr>\n",
              "      <th>0</th>\n",
              "      <td>1100015</td>\n",
              "      <td>Alta Floresta D'Oeste</td>\n",
              "      <td>RO</td>\n",
              "      <td>52.00</td>\n",
              "      <td>5479.00</td>\n",
              "      <td>2800.00</td>\n",
              "      <td>0.00</td>\n",
              "      <td>0.00</td>\n",
              "    </tr>\n",
              "    <tr>\n",
              "      <th>1</th>\n",
              "      <td>1100023</td>\n",
              "      <td>Ariquemes</td>\n",
              "      <td>RO</td>\n",
              "      <td>952.00</td>\n",
              "      <td>3440.00</td>\n",
              "      <td>9553.00</td>\n",
              "      <td>0.00</td>\n",
              "      <td>0.00</td>\n",
              "    </tr>\n",
              "    <tr>\n",
              "      <th>2</th>\n",
              "      <td>1100031</td>\n",
              "      <td>Cabixi</td>\n",
              "      <td>RO</td>\n",
              "      <td>74.00</td>\n",
              "      <td>49175.00</td>\n",
              "      <td>73522.00</td>\n",
              "      <td>0.00</td>\n",
              "      <td>0.00</td>\n",
              "    </tr>\n",
              "    <tr>\n",
              "      <th>3</th>\n",
              "      <td>1100049</td>\n",
              "      <td>Cacoal</td>\n",
              "      <td>RO</td>\n",
              "      <td>260.00</td>\n",
              "      <td>2588.00</td>\n",
              "      <td>3349.00</td>\n",
              "      <td>0.00</td>\n",
              "      <td>0.00</td>\n",
              "    </tr>\n",
              "    <tr>\n",
              "      <th>5</th>\n",
              "      <td>1100064</td>\n",
              "      <td>Colorado do Oeste</td>\n",
              "      <td>RO</td>\n",
              "      <td>195.00</td>\n",
              "      <td>3718.00</td>\n",
              "      <td>4587.00</td>\n",
              "      <td>0.00</td>\n",
              "      <td>0.00</td>\n",
              "    </tr>\n",
              "  </tbody>\n",
              "</table>\n",
              "</div>"
            ],
            "text/plain": [
              "       mun                nome_mun  uf   cana    milho     soja  sorgo  trigo\n",
              "0  1100015  Alta Floresta D'Oeste   RO  52.00  5479.00  2800.00   0.00   0.00\n",
              "1  1100023              Ariquemes   RO 952.00  3440.00  9553.00   0.00   0.00\n",
              "2  1100031                 Cabixi   RO  74.00 49175.00 73522.00   0.00   0.00\n",
              "3  1100049                 Cacoal   RO 260.00  2588.00  3349.00   0.00   0.00\n",
              "5  1100064      Colorado do Oeste   RO 195.00  3718.00  4587.00   0.00   0.00"
            ]
          },
          "execution_count": 17,
          "metadata": {},
          "output_type": "execute_result"
        }
      ],
      "source": [
        "df = df.replace(['-'], 0)\n",
        "df = df.replace(['X', '..', '...'], np.nan).dropna(axis=0, how='any')\n",
        "df.head()"
      ]
    },
    {
      "cell_type": "code",
      "execution_count": 18,
      "metadata": {
        "colab": {
          "base_uri": "https://localhost:8080/",
          "height": 300
        },
        "id": "_o6LW7_9r6Ls",
        "outputId": "89614c17-ef08-497d-ea15-eef6dbef7c36"
      },
      "outputs": [
        {
          "data": {
            "application/vnd.microsoft.datawrangler.viewer.v0+json": {
              "columns": [
                {
                  "name": "index",
                  "rawType": "object",
                  "type": "string"
                },
                {
                  "name": "cana",
                  "rawType": "float64",
                  "type": "float"
                },
                {
                  "name": "milho",
                  "rawType": "float64",
                  "type": "float"
                },
                {
                  "name": "soja",
                  "rawType": "float64",
                  "type": "float"
                },
                {
                  "name": "sorgo",
                  "rawType": "float64",
                  "type": "float"
                },
                {
                  "name": "trigo",
                  "rawType": "float64",
                  "type": "float"
                }
              ],
              "ref": "80a828e2-befb-4972-8b49-6c5a6486a1d3",
              "rows": [
                [
                  "count",
                  "3342.0",
                  "3342.0",
                  "3342.0",
                  "3342.0",
                  "3342.0"
                ],
                [
                  "mean",
                  "279449.90305206465",
                  "36573.262417713944",
                  "44527.56104129264",
                  "791.0281268701376",
                  "2076.881208856972"
                ],
                [
                  "std",
                  "2845914.931682669",
                  "427782.7113264303",
                  "453412.6782284568",
                  "13524.8193213792",
                  "33302.7127133361"
                ],
                [
                  "min",
                  "0.0",
                  "0.0",
                  "0.0",
                  "0.0",
                  "0.0"
                ],
                [
                  "25%",
                  "3.0",
                  "77.0",
                  "0.0",
                  "0.0",
                  "0.0"
                ],
                [
                  "50%",
                  "181.0",
                  "483.0",
                  "0.0",
                  "0.0",
                  "0.0"
                ],
                [
                  "75%",
                  "2148.5",
                  "5893.5",
                  "4883.75",
                  "0.0",
                  "0.0"
                ],
                [
                  "max",
                  "95001372.0",
                  "19689584.0",
                  "19108143.0",
                  "576145.0",
                  "1819377.0"
                ]
              ],
              "shape": {
                "columns": 5,
                "rows": 8
              }
            },
            "text/html": [
              "<div>\n",
              "<style scoped>\n",
              "    .dataframe tbody tr th:only-of-type {\n",
              "        vertical-align: middle;\n",
              "    }\n",
              "\n",
              "    .dataframe tbody tr th {\n",
              "        vertical-align: top;\n",
              "    }\n",
              "\n",
              "    .dataframe thead th {\n",
              "        text-align: right;\n",
              "    }\n",
              "</style>\n",
              "<table border=\"1\" class=\"dataframe\">\n",
              "  <thead>\n",
              "    <tr style=\"text-align: right;\">\n",
              "      <th></th>\n",
              "      <th>cana</th>\n",
              "      <th>milho</th>\n",
              "      <th>soja</th>\n",
              "      <th>sorgo</th>\n",
              "      <th>trigo</th>\n",
              "    </tr>\n",
              "  </thead>\n",
              "  <tbody>\n",
              "    <tr>\n",
              "      <th>count</th>\n",
              "      <td>3342.00</td>\n",
              "      <td>3342.00</td>\n",
              "      <td>3342.00</td>\n",
              "      <td>3342.00</td>\n",
              "      <td>3342.00</td>\n",
              "    </tr>\n",
              "    <tr>\n",
              "      <th>mean</th>\n",
              "      <td>279449.90</td>\n",
              "      <td>36573.26</td>\n",
              "      <td>44527.56</td>\n",
              "      <td>791.03</td>\n",
              "      <td>2076.88</td>\n",
              "    </tr>\n",
              "    <tr>\n",
              "      <th>std</th>\n",
              "      <td>2845914.93</td>\n",
              "      <td>427782.71</td>\n",
              "      <td>453412.68</td>\n",
              "      <td>13524.82</td>\n",
              "      <td>33302.71</td>\n",
              "    </tr>\n",
              "    <tr>\n",
              "      <th>min</th>\n",
              "      <td>0.00</td>\n",
              "      <td>0.00</td>\n",
              "      <td>0.00</td>\n",
              "      <td>0.00</td>\n",
              "      <td>0.00</td>\n",
              "    </tr>\n",
              "    <tr>\n",
              "      <th>25%</th>\n",
              "      <td>3.00</td>\n",
              "      <td>77.00</td>\n",
              "      <td>0.00</td>\n",
              "      <td>0.00</td>\n",
              "      <td>0.00</td>\n",
              "    </tr>\n",
              "    <tr>\n",
              "      <th>50%</th>\n",
              "      <td>181.00</td>\n",
              "      <td>483.00</td>\n",
              "      <td>0.00</td>\n",
              "      <td>0.00</td>\n",
              "      <td>0.00</td>\n",
              "    </tr>\n",
              "    <tr>\n",
              "      <th>75%</th>\n",
              "      <td>2148.50</td>\n",
              "      <td>5893.50</td>\n",
              "      <td>4883.75</td>\n",
              "      <td>0.00</td>\n",
              "      <td>0.00</td>\n",
              "    </tr>\n",
              "    <tr>\n",
              "      <th>max</th>\n",
              "      <td>95001372.00</td>\n",
              "      <td>19689584.00</td>\n",
              "      <td>19108143.00</td>\n",
              "      <td>576145.00</td>\n",
              "      <td>1819377.00</td>\n",
              "    </tr>\n",
              "  </tbody>\n",
              "</table>\n",
              "</div>"
            ],
            "text/plain": [
              "             cana       milho        soja     sorgo      trigo\n",
              "count     3342.00     3342.00     3342.00   3342.00    3342.00\n",
              "mean    279449.90    36573.26    44527.56    791.03    2076.88\n",
              "std    2845914.93   427782.71   453412.68  13524.82   33302.71\n",
              "min          0.00        0.00        0.00      0.00       0.00\n",
              "25%          3.00       77.00        0.00      0.00       0.00\n",
              "50%        181.00      483.00        0.00      0.00       0.00\n",
              "75%       2148.50     5893.50     4883.75      0.00       0.00\n",
              "max   95001372.00 19689584.00 19108143.00 576145.00 1819377.00"
            ]
          },
          "execution_count": 18,
          "metadata": {},
          "output_type": "execute_result"
        }
      ],
      "source": [
        "df.iloc[:, 3:].describe()"
      ]
    },
    {
      "cell_type": "code",
      "execution_count": 19,
      "metadata": {
        "colab": {
          "base_uri": "https://localhost:8080/"
        },
        "id": "_043N8gFUVP4",
        "outputId": "e7472a16-e2c0-48af-d540-0777a38ddd94"
      },
      "outputs": [
        {
          "name": "stdout",
          "output_type": "stream",
          "text": [
            "<class 'pandas.core.frame.DataFrame'>\n",
            "Index: 3342 entries, 0 to 5691\n",
            "Data columns (total 8 columns):\n",
            " #   Column    Non-Null Count  Dtype  \n",
            "---  ------    --------------  -----  \n",
            " 0   mun       3342 non-null   int64  \n",
            " 1   nome_mun  3342 non-null   object \n",
            " 2   uf        3342 non-null   object \n",
            " 3   cana      3342 non-null   float64\n",
            " 4   milho     3342 non-null   float64\n",
            " 5   soja      3342 non-null   float64\n",
            " 6   sorgo     3342 non-null   float64\n",
            " 7   trigo     3342 non-null   float64\n",
            "dtypes: float64(5), int64(1), object(2)\n",
            "memory usage: 235.0+ KB\n"
          ]
        }
      ],
      "source": [
        "# checar os tipos das variáveis\n",
        "df.info()"
      ]
    },
    {
      "cell_type": "code",
      "execution_count": 20,
      "metadata": {
        "colab": {
          "base_uri": "https://localhost:8080/"
        },
        "id": "OuOSU71OUe_i",
        "outputId": "5baa50af-e3ca-4eba-879c-0c12e1075a3a"
      },
      "outputs": [
        {
          "data": {
            "text/plain": [
              "(3342, 8)"
            ]
          },
          "execution_count": 20,
          "metadata": {},
          "output_type": "execute_result"
        }
      ],
      "source": [
        "df.shape"
      ]
    },
    {
      "cell_type": "markdown",
      "metadata": {
        "id": "wb1wW18UjRb6"
      },
      "source": [
        "Se quisermos salvar o novo arquivo:"
      ]
    },
    {
      "cell_type": "code",
      "execution_count": 21,
      "metadata": {
        "id": "g2iSMx2FjTmp"
      },
      "outputs": [],
      "source": [
        "df.to_excel('qtde-6957.xlsx', index=False)"
      ]
    },
    {
      "cell_type": "markdown",
      "metadata": {
        "id": "yI-NbZkPQ_nK"
      },
      "source": [
        "## Filtrar dados\n",
        "\n",
        "E se quisermos selecionar uma parte dos dados: um estado, uma região etc.?\n"
      ]
    },
    {
      "cell_type": "code",
      "execution_count": 22,
      "metadata": {
        "colab": {
          "base_uri": "https://localhost:8080/",
          "height": 206
        },
        "id": "AwNp3I54m7_9",
        "outputId": "56e711f6-fc76-4dc6-b882-38513184df79"
      },
      "outputs": [
        {
          "data": {
            "application/vnd.microsoft.datawrangler.viewer.v0+json": {
              "columns": [
                {
                  "name": "index",
                  "rawType": "int64",
                  "type": "integer"
                },
                {
                  "name": "mun",
                  "rawType": "int64",
                  "type": "integer"
                },
                {
                  "name": "nome_mun",
                  "rawType": "object",
                  "type": "string"
                },
                {
                  "name": "uf",
                  "rawType": "object",
                  "type": "string"
                },
                {
                  "name": "cana",
                  "rawType": "float64",
                  "type": "float"
                },
                {
                  "name": "milho",
                  "rawType": "float64",
                  "type": "float"
                },
                {
                  "name": "soja",
                  "rawType": "float64",
                  "type": "float"
                },
                {
                  "name": "sorgo",
                  "rawType": "float64",
                  "type": "float"
                },
                {
                  "name": "trigo",
                  "rawType": "float64",
                  "type": "float"
                }
              ],
              "ref": "6c0c1129-d512-40c3-85fd-e2efd0bded2e",
              "rows": [
                [
                  "1871",
                  "2903706",
                  "Boa Nova ",
                  "BA",
                  "426.0",
                  "42.0",
                  "0.0",
                  "0.0",
                  "0.0"
                ],
                [
                  "1013",
                  "2309409",
                  "Novo Oriente ",
                  "CE",
                  "9.0",
                  "7740.0",
                  "0.0",
                  "13.0",
                  "0.0"
                ],
                [
                  "1995",
                  "2914208",
                  "Irajuba ",
                  "BA",
                  "0.0",
                  "39.0",
                  "0.0",
                  "0.0",
                  "0.0"
                ],
                [
                  "1666",
                  "2701704",
                  "Capela ",
                  "AL",
                  "111075.0",
                  "6.0",
                  "0.0",
                  "0.0",
                  "0.0"
                ],
                [
                  "4028",
                  "4109104",
                  "Guaporema ",
                  "PR",
                  "474199.0",
                  "1499.0",
                  "1930.0",
                  "0.0",
                  "0.0"
                ]
              ],
              "shape": {
                "columns": 8,
                "rows": 5
              }
            },
            "text/html": [
              "<div>\n",
              "<style scoped>\n",
              "    .dataframe tbody tr th:only-of-type {\n",
              "        vertical-align: middle;\n",
              "    }\n",
              "\n",
              "    .dataframe tbody tr th {\n",
              "        vertical-align: top;\n",
              "    }\n",
              "\n",
              "    .dataframe thead th {\n",
              "        text-align: right;\n",
              "    }\n",
              "</style>\n",
              "<table border=\"1\" class=\"dataframe\">\n",
              "  <thead>\n",
              "    <tr style=\"text-align: right;\">\n",
              "      <th></th>\n",
              "      <th>mun</th>\n",
              "      <th>nome_mun</th>\n",
              "      <th>uf</th>\n",
              "      <th>cana</th>\n",
              "      <th>milho</th>\n",
              "      <th>soja</th>\n",
              "      <th>sorgo</th>\n",
              "      <th>trigo</th>\n",
              "    </tr>\n",
              "  </thead>\n",
              "  <tbody>\n",
              "    <tr>\n",
              "      <th>1871</th>\n",
              "      <td>2903706</td>\n",
              "      <td>Boa Nova</td>\n",
              "      <td>BA</td>\n",
              "      <td>426.00</td>\n",
              "      <td>42.00</td>\n",
              "      <td>0.00</td>\n",
              "      <td>0.00</td>\n",
              "      <td>0.00</td>\n",
              "    </tr>\n",
              "    <tr>\n",
              "      <th>1013</th>\n",
              "      <td>2309409</td>\n",
              "      <td>Novo Oriente</td>\n",
              "      <td>CE</td>\n",
              "      <td>9.00</td>\n",
              "      <td>7740.00</td>\n",
              "      <td>0.00</td>\n",
              "      <td>13.00</td>\n",
              "      <td>0.00</td>\n",
              "    </tr>\n",
              "    <tr>\n",
              "      <th>1995</th>\n",
              "      <td>2914208</td>\n",
              "      <td>Irajuba</td>\n",
              "      <td>BA</td>\n",
              "      <td>0.00</td>\n",
              "      <td>39.00</td>\n",
              "      <td>0.00</td>\n",
              "      <td>0.00</td>\n",
              "      <td>0.00</td>\n",
              "    </tr>\n",
              "    <tr>\n",
              "      <th>1666</th>\n",
              "      <td>2701704</td>\n",
              "      <td>Capela</td>\n",
              "      <td>AL</td>\n",
              "      <td>111075.00</td>\n",
              "      <td>6.00</td>\n",
              "      <td>0.00</td>\n",
              "      <td>0.00</td>\n",
              "      <td>0.00</td>\n",
              "    </tr>\n",
              "    <tr>\n",
              "      <th>4028</th>\n",
              "      <td>4109104</td>\n",
              "      <td>Guaporema</td>\n",
              "      <td>PR</td>\n",
              "      <td>474199.00</td>\n",
              "      <td>1499.00</td>\n",
              "      <td>1930.00</td>\n",
              "      <td>0.00</td>\n",
              "      <td>0.00</td>\n",
              "    </tr>\n",
              "  </tbody>\n",
              "</table>\n",
              "</div>"
            ],
            "text/plain": [
              "          mun       nome_mun  uf      cana   milho    soja  sorgo  trigo\n",
              "1871  2903706      Boa Nova   BA    426.00   42.00    0.00   0.00   0.00\n",
              "1013  2309409  Novo Oriente   CE      9.00 7740.00    0.00  13.00   0.00\n",
              "1995  2914208       Irajuba   BA      0.00   39.00    0.00   0.00   0.00\n",
              "1666  2701704        Capela   AL 111075.00    6.00    0.00   0.00   0.00\n",
              "4028  4109104     Guaporema   PR 474199.00 1499.00 1930.00   0.00   0.00"
            ]
          },
          "execution_count": 22,
          "metadata": {},
          "output_type": "execute_result"
        }
      ],
      "source": [
        "df.sample(5)"
      ]
    },
    {
      "cell_type": "code",
      "execution_count": 23,
      "metadata": {
        "id": "cqJb9zUERftW"
      },
      "outputs": [],
      "source": [
        "# podemos selecionar um ou mais estados, por exemplo\n",
        "dados = df.query('uf == \"MG\"')"
      ]
    },
    {
      "cell_type": "code",
      "execution_count": 24,
      "metadata": {
        "id": "8I0jK8w3SgdC"
      },
      "outputs": [],
      "source": [
        "# começar os índices do zero\n",
        "dados = dados.reset_index(drop=True)"
      ]
    },
    {
      "cell_type": "code",
      "execution_count": 25,
      "metadata": {
        "colab": {
          "base_uri": "https://localhost:8080/",
          "height": 206
        },
        "id": "f8B3k90BS4tU",
        "outputId": "bcc1a4bf-2e68-4d2e-b9da-2320ae0bac42"
      },
      "outputs": [
        {
          "data": {
            "application/vnd.microsoft.datawrangler.viewer.v0+json": {
              "columns": [
                {
                  "name": "index",
                  "rawType": "int64",
                  "type": "integer"
                },
                {
                  "name": "mun",
                  "rawType": "int64",
                  "type": "integer"
                },
                {
                  "name": "nome_mun",
                  "rawType": "object",
                  "type": "string"
                },
                {
                  "name": "uf",
                  "rawType": "object",
                  "type": "string"
                },
                {
                  "name": "cana",
                  "rawType": "float64",
                  "type": "float"
                },
                {
                  "name": "milho",
                  "rawType": "float64",
                  "type": "float"
                },
                {
                  "name": "soja",
                  "rawType": "float64",
                  "type": "float"
                },
                {
                  "name": "sorgo",
                  "rawType": "float64",
                  "type": "float"
                },
                {
                  "name": "trigo",
                  "rawType": "float64",
                  "type": "float"
                }
              ],
              "ref": "0acac52c-3cc7-474f-ac48-cef379bd090f",
              "rows": [
                [
                  "0",
                  "3100302",
                  "Abre Campo ",
                  "MG",
                  "9638.0",
                  "791.0",
                  "0.0",
                  "0.0",
                  "0.0"
                ],
                [
                  "1",
                  "3100401",
                  "Acaiaca ",
                  "MG",
                  "1436.0",
                  "192.0",
                  "0.0",
                  "0.0",
                  "0.0"
                ],
                [
                  "2",
                  "3100500",
                  "Açucena ",
                  "MG",
                  "2440.0",
                  "899.0",
                  "0.0",
                  "0.0",
                  "0.0"
                ],
                [
                  "3",
                  "3100609",
                  "Água Boa ",
                  "MG",
                  "6239.0",
                  "2917.0",
                  "0.0",
                  "0.0",
                  "0.0"
                ],
                [
                  "4",
                  "3100708",
                  "Água Comprida ",
                  "MG",
                  "1044578.0",
                  "28619.0",
                  "35646.0",
                  "23690.0",
                  "0.0"
                ]
              ],
              "shape": {
                "columns": 8,
                "rows": 5
              }
            },
            "text/html": [
              "<div>\n",
              "<style scoped>\n",
              "    .dataframe tbody tr th:only-of-type {\n",
              "        vertical-align: middle;\n",
              "    }\n",
              "\n",
              "    .dataframe tbody tr th {\n",
              "        vertical-align: top;\n",
              "    }\n",
              "\n",
              "    .dataframe thead th {\n",
              "        text-align: right;\n",
              "    }\n",
              "</style>\n",
              "<table border=\"1\" class=\"dataframe\">\n",
              "  <thead>\n",
              "    <tr style=\"text-align: right;\">\n",
              "      <th></th>\n",
              "      <th>mun</th>\n",
              "      <th>nome_mun</th>\n",
              "      <th>uf</th>\n",
              "      <th>cana</th>\n",
              "      <th>milho</th>\n",
              "      <th>soja</th>\n",
              "      <th>sorgo</th>\n",
              "      <th>trigo</th>\n",
              "    </tr>\n",
              "  </thead>\n",
              "  <tbody>\n",
              "    <tr>\n",
              "      <th>0</th>\n",
              "      <td>3100302</td>\n",
              "      <td>Abre Campo</td>\n",
              "      <td>MG</td>\n",
              "      <td>9638.00</td>\n",
              "      <td>791.00</td>\n",
              "      <td>0.00</td>\n",
              "      <td>0.00</td>\n",
              "      <td>0.00</td>\n",
              "    </tr>\n",
              "    <tr>\n",
              "      <th>1</th>\n",
              "      <td>3100401</td>\n",
              "      <td>Acaiaca</td>\n",
              "      <td>MG</td>\n",
              "      <td>1436.00</td>\n",
              "      <td>192.00</td>\n",
              "      <td>0.00</td>\n",
              "      <td>0.00</td>\n",
              "      <td>0.00</td>\n",
              "    </tr>\n",
              "    <tr>\n",
              "      <th>2</th>\n",
              "      <td>3100500</td>\n",
              "      <td>Açucena</td>\n",
              "      <td>MG</td>\n",
              "      <td>2440.00</td>\n",
              "      <td>899.00</td>\n",
              "      <td>0.00</td>\n",
              "      <td>0.00</td>\n",
              "      <td>0.00</td>\n",
              "    </tr>\n",
              "    <tr>\n",
              "      <th>3</th>\n",
              "      <td>3100609</td>\n",
              "      <td>Água Boa</td>\n",
              "      <td>MG</td>\n",
              "      <td>6239.00</td>\n",
              "      <td>2917.00</td>\n",
              "      <td>0.00</td>\n",
              "      <td>0.00</td>\n",
              "      <td>0.00</td>\n",
              "    </tr>\n",
              "    <tr>\n",
              "      <th>4</th>\n",
              "      <td>3100708</td>\n",
              "      <td>Água Comprida</td>\n",
              "      <td>MG</td>\n",
              "      <td>1044578.00</td>\n",
              "      <td>28619.00</td>\n",
              "      <td>35646.00</td>\n",
              "      <td>23690.00</td>\n",
              "      <td>0.00</td>\n",
              "    </tr>\n",
              "  </tbody>\n",
              "</table>\n",
              "</div>"
            ],
            "text/plain": [
              "       mun        nome_mun  uf       cana    milho     soja    sorgo  trigo\n",
              "0  3100302     Abre Campo   MG    9638.00   791.00     0.00     0.00   0.00\n",
              "1  3100401        Acaiaca   MG    1436.00   192.00     0.00     0.00   0.00\n",
              "2  3100500        Açucena   MG    2440.00   899.00     0.00     0.00   0.00\n",
              "3  3100609       Água Boa   MG    6239.00  2917.00     0.00     0.00   0.00\n",
              "4  3100708  Água Comprida   MG 1044578.00 28619.00 35646.00 23690.00   0.00"
            ]
          },
          "execution_count": 25,
          "metadata": {},
          "output_type": "execute_result"
        }
      ],
      "source": [
        "dados.head()"
      ]
    },
    {
      "cell_type": "code",
      "execution_count": 26,
      "metadata": {
        "colab": {
          "base_uri": "https://localhost:8080/"
        },
        "id": "dG-BxSx3S0Pk",
        "outputId": "fc7ac83e-88c0-40bd-f518-81bb2ef432dd"
      },
      "outputs": [
        {
          "data": {
            "text/plain": [
              "(536, 8)"
            ]
          },
          "execution_count": 26,
          "metadata": {},
          "output_type": "execute_result"
        }
      ],
      "source": [
        "dados.shape"
      ]
    },
    {
      "cell_type": "code",
      "execution_count": 27,
      "metadata": {
        "id": "__hoPtS2SjsM"
      },
      "outputs": [],
      "source": [
        "dados.to_excel('qtde-mg.xlsx', index=False)"
      ]
    },
    {
      "cell_type": "code",
      "execution_count": 28,
      "metadata": {
        "colab": {
          "base_uri": "https://localhost:8080/"
        },
        "id": "QV5zrhnZSJmB",
        "outputId": "da69a102-b2cc-4902-fb9f-b8b5ea202a7a"
      },
      "outputs": [
        {
          "data": {
            "text/plain": [
              "(819, 8)"
            ]
          },
          "execution_count": 28,
          "metadata": {},
          "output_type": "execute_result"
        }
      ],
      "source": [
        "# podemos selecionar um ou mais estados, por exemplo\n",
        "dados = df.query('(uf == \"MG\") or (uf == \"SP\")')\n",
        "dados = dados.reset_index(drop=True)   # zerar os índices\n",
        "dados.shape"
      ]
    },
    {
      "cell_type": "code",
      "execution_count": 29,
      "metadata": {
        "colab": {
          "base_uri": "https://localhost:8080/",
          "height": 363
        },
        "id": "65VcvCLQS_XA",
        "outputId": "0050527c-0994-4156-c74b-4b399338be34"
      },
      "outputs": [
        {
          "data": {
            "application/vnd.microsoft.datawrangler.viewer.v0+json": {
              "columns": [
                {
                  "name": "index",
                  "rawType": "int64",
                  "type": "integer"
                },
                {
                  "name": "mun",
                  "rawType": "int64",
                  "type": "integer"
                },
                {
                  "name": "nome_mun",
                  "rawType": "object",
                  "type": "string"
                },
                {
                  "name": "uf",
                  "rawType": "object",
                  "type": "string"
                },
                {
                  "name": "cana",
                  "rawType": "float64",
                  "type": "float"
                },
                {
                  "name": "milho",
                  "rawType": "float64",
                  "type": "float"
                },
                {
                  "name": "soja",
                  "rawType": "float64",
                  "type": "float"
                },
                {
                  "name": "sorgo",
                  "rawType": "float64",
                  "type": "float"
                },
                {
                  "name": "trigo",
                  "rawType": "float64",
                  "type": "float"
                }
              ],
              "ref": "53e3f7a3-1ec2-457d-b82c-6bdf9012add9",
              "rows": [
                [
                  "155",
                  "3122454",
                  "Divisópolis ",
                  "MG",
                  "742.0",
                  "143.0",
                  "0.0",
                  "0.0",
                  "0.0"
                ],
                [
                  "249",
                  "3135407",
                  "Jeceaba ",
                  "MG",
                  "1220.0",
                  "562.0",
                  "0.0",
                  "0.0",
                  "0.0"
                ],
                [
                  "728",
                  "3540804",
                  "Potirendaba ",
                  "SP",
                  "735072.0",
                  "6131.0",
                  "286.0",
                  "0.0",
                  "0.0"
                ],
                [
                  "815",
                  "3508",
                  "Presidente Prudente ",
                  "SP",
                  "30812452.0",
                  "161504.0",
                  "113232.0",
                  "0.0",
                  "0.0"
                ],
                [
                  "464",
                  "3163409",
                  "São José do Goiabal ",
                  "MG",
                  "45845.0",
                  "294.0",
                  "0.0",
                  "0.0",
                  "0.0"
                ],
                [
                  "105",
                  "3115474",
                  "Catuti ",
                  "MG",
                  "0.0",
                  "86.0",
                  "0.0",
                  "384.0",
                  "0.0"
                ],
                [
                  "379",
                  "3153202",
                  "Presidente Juscelino ",
                  "MG",
                  "1725.0",
                  "833.0",
                  "0.0",
                  "543.0",
                  "0.0"
                ],
                [
                  "720",
                  "3538907",
                  "Pirajuí ",
                  "SP",
                  "1016162.0",
                  "2719.0",
                  "4869.0",
                  "0.0",
                  "0.0"
                ],
                [
                  "387",
                  "3154606",
                  "Ribeirão das Neves ",
                  "MG",
                  "276.0",
                  "8.0",
                  "0.0",
                  "0.0",
                  "0.0"
                ],
                [
                  "495",
                  "3167103",
                  "Serro ",
                  "MG",
                  "2547.0",
                  "1139.0",
                  "0.0",
                  "0.0",
                  "0.0"
                ]
              ],
              "shape": {
                "columns": 8,
                "rows": 10
              }
            },
            "text/html": [
              "<div>\n",
              "<style scoped>\n",
              "    .dataframe tbody tr th:only-of-type {\n",
              "        vertical-align: middle;\n",
              "    }\n",
              "\n",
              "    .dataframe tbody tr th {\n",
              "        vertical-align: top;\n",
              "    }\n",
              "\n",
              "    .dataframe thead th {\n",
              "        text-align: right;\n",
              "    }\n",
              "</style>\n",
              "<table border=\"1\" class=\"dataframe\">\n",
              "  <thead>\n",
              "    <tr style=\"text-align: right;\">\n",
              "      <th></th>\n",
              "      <th>mun</th>\n",
              "      <th>nome_mun</th>\n",
              "      <th>uf</th>\n",
              "      <th>cana</th>\n",
              "      <th>milho</th>\n",
              "      <th>soja</th>\n",
              "      <th>sorgo</th>\n",
              "      <th>trigo</th>\n",
              "    </tr>\n",
              "  </thead>\n",
              "  <tbody>\n",
              "    <tr>\n",
              "      <th>155</th>\n",
              "      <td>3122454</td>\n",
              "      <td>Divisópolis</td>\n",
              "      <td>MG</td>\n",
              "      <td>742.00</td>\n",
              "      <td>143.00</td>\n",
              "      <td>0.00</td>\n",
              "      <td>0.00</td>\n",
              "      <td>0.00</td>\n",
              "    </tr>\n",
              "    <tr>\n",
              "      <th>249</th>\n",
              "      <td>3135407</td>\n",
              "      <td>Jeceaba</td>\n",
              "      <td>MG</td>\n",
              "      <td>1220.00</td>\n",
              "      <td>562.00</td>\n",
              "      <td>0.00</td>\n",
              "      <td>0.00</td>\n",
              "      <td>0.00</td>\n",
              "    </tr>\n",
              "    <tr>\n",
              "      <th>728</th>\n",
              "      <td>3540804</td>\n",
              "      <td>Potirendaba</td>\n",
              "      <td>SP</td>\n",
              "      <td>735072.00</td>\n",
              "      <td>6131.00</td>\n",
              "      <td>286.00</td>\n",
              "      <td>0.00</td>\n",
              "      <td>0.00</td>\n",
              "    </tr>\n",
              "    <tr>\n",
              "      <th>815</th>\n",
              "      <td>3508</td>\n",
              "      <td>Presidente Prudente</td>\n",
              "      <td>SP</td>\n",
              "      <td>30812452.00</td>\n",
              "      <td>161504.00</td>\n",
              "      <td>113232.00</td>\n",
              "      <td>0.00</td>\n",
              "      <td>0.00</td>\n",
              "    </tr>\n",
              "    <tr>\n",
              "      <th>464</th>\n",
              "      <td>3163409</td>\n",
              "      <td>São José do Goiabal</td>\n",
              "      <td>MG</td>\n",
              "      <td>45845.00</td>\n",
              "      <td>294.00</td>\n",
              "      <td>0.00</td>\n",
              "      <td>0.00</td>\n",
              "      <td>0.00</td>\n",
              "    </tr>\n",
              "    <tr>\n",
              "      <th>105</th>\n",
              "      <td>3115474</td>\n",
              "      <td>Catuti</td>\n",
              "      <td>MG</td>\n",
              "      <td>0.00</td>\n",
              "      <td>86.00</td>\n",
              "      <td>0.00</td>\n",
              "      <td>384.00</td>\n",
              "      <td>0.00</td>\n",
              "    </tr>\n",
              "    <tr>\n",
              "      <th>379</th>\n",
              "      <td>3153202</td>\n",
              "      <td>Presidente Juscelino</td>\n",
              "      <td>MG</td>\n",
              "      <td>1725.00</td>\n",
              "      <td>833.00</td>\n",
              "      <td>0.00</td>\n",
              "      <td>543.00</td>\n",
              "      <td>0.00</td>\n",
              "    </tr>\n",
              "    <tr>\n",
              "      <th>720</th>\n",
              "      <td>3538907</td>\n",
              "      <td>Pirajuí</td>\n",
              "      <td>SP</td>\n",
              "      <td>1016162.00</td>\n",
              "      <td>2719.00</td>\n",
              "      <td>4869.00</td>\n",
              "      <td>0.00</td>\n",
              "      <td>0.00</td>\n",
              "    </tr>\n",
              "    <tr>\n",
              "      <th>387</th>\n",
              "      <td>3154606</td>\n",
              "      <td>Ribeirão das Neves</td>\n",
              "      <td>MG</td>\n",
              "      <td>276.00</td>\n",
              "      <td>8.00</td>\n",
              "      <td>0.00</td>\n",
              "      <td>0.00</td>\n",
              "      <td>0.00</td>\n",
              "    </tr>\n",
              "    <tr>\n",
              "      <th>495</th>\n",
              "      <td>3167103</td>\n",
              "      <td>Serro</td>\n",
              "      <td>MG</td>\n",
              "      <td>2547.00</td>\n",
              "      <td>1139.00</td>\n",
              "      <td>0.00</td>\n",
              "      <td>0.00</td>\n",
              "      <td>0.00</td>\n",
              "    </tr>\n",
              "  </tbody>\n",
              "</table>\n",
              "</div>"
            ],
            "text/plain": [
              "         mun               nome_mun  uf        cana     milho      soja  \\\n",
              "155  3122454           Divisópolis   MG      742.00    143.00      0.00   \n",
              "249  3135407               Jeceaba   MG     1220.00    562.00      0.00   \n",
              "728  3540804           Potirendaba   SP   735072.00   6131.00    286.00   \n",
              "815     3508   Presidente Prudente   SP 30812452.00 161504.00 113232.00   \n",
              "464  3163409   São José do Goiabal   MG    45845.00    294.00      0.00   \n",
              "105  3115474                Catuti   MG        0.00     86.00      0.00   \n",
              "379  3153202  Presidente Juscelino   MG     1725.00    833.00      0.00   \n",
              "720  3538907               Pirajuí   SP  1016162.00   2719.00   4869.00   \n",
              "387  3154606    Ribeirão das Neves   MG      276.00      8.00      0.00   \n",
              "495  3167103                 Serro   MG     2547.00   1139.00      0.00   \n",
              "\n",
              "     sorgo  trigo  \n",
              "155   0.00   0.00  \n",
              "249   0.00   0.00  \n",
              "728   0.00   0.00  \n",
              "815   0.00   0.00  \n",
              "464   0.00   0.00  \n",
              "105 384.00   0.00  \n",
              "379 543.00   0.00  \n",
              "720   0.00   0.00  \n",
              "387   0.00   0.00  \n",
              "495   0.00   0.00  "
            ]
          },
          "execution_count": 29,
          "metadata": {},
          "output_type": "execute_result"
        }
      ],
      "source": [
        "dados.sample(10)"
      ]
    },
    {
      "cell_type": "markdown",
      "metadata": {
        "id": "t5zelvqlTMLe"
      },
      "source": [
        "## Unir os dados com outras informações sobre os municípios\n",
        "\n",
        "Dessa forma podemos incorporar novas informações ao *dataframe*."
      ]
    },
    {
      "cell_type": "code",
      "execution_count": 30,
      "metadata": {
        "colab": {
          "base_uri": "https://localhost:8080/",
          "height": 206
        },
        "id": "9rSOEvoud_a4",
        "outputId": "3ac1a34e-c77b-499b-9490-48a820e0e05c"
      },
      "outputs": [
        {
          "data": {
            "application/vnd.microsoft.datawrangler.viewer.v0+json": {
              "columns": [
                {
                  "name": "index",
                  "rawType": "int64",
                  "type": "integer"
                },
                {
                  "name": "mun",
                  "rawType": "int64",
                  "type": "integer"
                },
                {
                  "name": "nome_mun",
                  "rawType": "object",
                  "type": "string"
                },
                {
                  "name": "uf",
                  "rawType": "object",
                  "type": "string"
                },
                {
                  "name": "cana",
                  "rawType": "float64",
                  "type": "float"
                },
                {
                  "name": "milho",
                  "rawType": "float64",
                  "type": "float"
                },
                {
                  "name": "soja",
                  "rawType": "float64",
                  "type": "float"
                },
                {
                  "name": "sorgo",
                  "rawType": "float64",
                  "type": "float"
                },
                {
                  "name": "trigo",
                  "rawType": "float64",
                  "type": "float"
                }
              ],
              "ref": "a851c506-d968-4801-8200-69b1e1b2cdfd",
              "rows": [
                [
                  "5216",
                  "5104500",
                  "Indiavaí ",
                  "MT",
                  "203.0",
                  "3010.0",
                  "0.0",
                  "0.0",
                  "0.0"
                ],
                [
                  "4082",
                  "4113403",
                  "Leópolis ",
                  "PR",
                  "0.0",
                  "61587.0",
                  "41679.0",
                  "0.0",
                  "1217.0"
                ],
                [
                  "4931",
                  "4315453",
                  "Relvado ",
                  "RS",
                  "2.0",
                  "5827.0",
                  "608.0",
                  "0.0",
                  "0.0"
                ],
                [
                  "2311",
                  "3106606",
                  "Bertópolis ",
                  "MG",
                  "139.0",
                  "72.0",
                  "0.0",
                  "0.0",
                  "0.0"
                ],
                [
                  "4936",
                  "4315750",
                  "Riozinho ",
                  "RS",
                  "113.0",
                  "552.0",
                  "0.0",
                  "0.0",
                  "0.0"
                ]
              ],
              "shape": {
                "columns": 8,
                "rows": 5
              }
            },
            "text/html": [
              "<div>\n",
              "<style scoped>\n",
              "    .dataframe tbody tr th:only-of-type {\n",
              "        vertical-align: middle;\n",
              "    }\n",
              "\n",
              "    .dataframe tbody tr th {\n",
              "        vertical-align: top;\n",
              "    }\n",
              "\n",
              "    .dataframe thead th {\n",
              "        text-align: right;\n",
              "    }\n",
              "</style>\n",
              "<table border=\"1\" class=\"dataframe\">\n",
              "  <thead>\n",
              "    <tr style=\"text-align: right;\">\n",
              "      <th></th>\n",
              "      <th>mun</th>\n",
              "      <th>nome_mun</th>\n",
              "      <th>uf</th>\n",
              "      <th>cana</th>\n",
              "      <th>milho</th>\n",
              "      <th>soja</th>\n",
              "      <th>sorgo</th>\n",
              "      <th>trigo</th>\n",
              "    </tr>\n",
              "  </thead>\n",
              "  <tbody>\n",
              "    <tr>\n",
              "      <th>5216</th>\n",
              "      <td>5104500</td>\n",
              "      <td>Indiavaí</td>\n",
              "      <td>MT</td>\n",
              "      <td>203.00</td>\n",
              "      <td>3010.00</td>\n",
              "      <td>0.00</td>\n",
              "      <td>0.00</td>\n",
              "      <td>0.00</td>\n",
              "    </tr>\n",
              "    <tr>\n",
              "      <th>4082</th>\n",
              "      <td>4113403</td>\n",
              "      <td>Leópolis</td>\n",
              "      <td>PR</td>\n",
              "      <td>0.00</td>\n",
              "      <td>61587.00</td>\n",
              "      <td>41679.00</td>\n",
              "      <td>0.00</td>\n",
              "      <td>1217.00</td>\n",
              "    </tr>\n",
              "    <tr>\n",
              "      <th>4931</th>\n",
              "      <td>4315453</td>\n",
              "      <td>Relvado</td>\n",
              "      <td>RS</td>\n",
              "      <td>2.00</td>\n",
              "      <td>5827.00</td>\n",
              "      <td>608.00</td>\n",
              "      <td>0.00</td>\n",
              "      <td>0.00</td>\n",
              "    </tr>\n",
              "    <tr>\n",
              "      <th>2311</th>\n",
              "      <td>3106606</td>\n",
              "      <td>Bertópolis</td>\n",
              "      <td>MG</td>\n",
              "      <td>139.00</td>\n",
              "      <td>72.00</td>\n",
              "      <td>0.00</td>\n",
              "      <td>0.00</td>\n",
              "      <td>0.00</td>\n",
              "    </tr>\n",
              "    <tr>\n",
              "      <th>4936</th>\n",
              "      <td>4315750</td>\n",
              "      <td>Riozinho</td>\n",
              "      <td>RS</td>\n",
              "      <td>113.00</td>\n",
              "      <td>552.00</td>\n",
              "      <td>0.00</td>\n",
              "      <td>0.00</td>\n",
              "      <td>0.00</td>\n",
              "    </tr>\n",
              "  </tbody>\n",
              "</table>\n",
              "</div>"
            ],
            "text/plain": [
              "          mun     nome_mun  uf   cana    milho     soja  sorgo   trigo\n",
              "5216  5104500    Indiavaí   MT 203.00  3010.00     0.00   0.00    0.00\n",
              "4082  4113403    Leópolis   PR   0.00 61587.00 41679.00   0.00 1217.00\n",
              "4931  4315453     Relvado   RS   2.00  5827.00   608.00   0.00    0.00\n",
              "2311  3106606  Bertópolis   MG 139.00    72.00     0.00   0.00    0.00\n",
              "4936  4315750    Riozinho   RS 113.00   552.00     0.00   0.00    0.00"
            ]
          },
          "execution_count": 30,
          "metadata": {},
          "output_type": "execute_result"
        }
      ],
      "source": [
        "df.sample(5)"
      ]
    },
    {
      "cell_type": "code",
      "execution_count": 31,
      "metadata": {
        "colab": {
          "base_uri": "https://localhost:8080/"
        },
        "id": "5CtemJbaTPkC",
        "outputId": "eaa886dd-7ab2-43af-dec2-89357e488281"
      },
      "outputs": [
        {
          "data": {
            "text/plain": [
              "(3342, 8)"
            ]
          },
          "execution_count": 31,
          "metadata": {},
          "output_type": "execute_result"
        }
      ],
      "source": [
        "# dados do Brasil todo\n",
        "df.shape"
      ]
    },
    {
      "cell_type": "code",
      "execution_count": 32,
      "metadata": {
        "colab": {
          "base_uri": "https://localhost:8080/"
        },
        "id": "hfP2RudJWeHk",
        "outputId": "67bd6ffb-7b44-4e73-a73a-a4216a1cb4b9"
      },
      "outputs": [
        {
          "name": "stdout",
          "output_type": "stream",
          "text": [
            "<class 'pandas.core.frame.DataFrame'>\n",
            "Index: 3342 entries, 0 to 5691\n",
            "Data columns (total 8 columns):\n",
            " #   Column    Non-Null Count  Dtype  \n",
            "---  ------    --------------  -----  \n",
            " 0   mun       3342 non-null   int64  \n",
            " 1   nome_mun  3342 non-null   object \n",
            " 2   uf        3342 non-null   object \n",
            " 3   cana      3342 non-null   float64\n",
            " 4   milho     3342 non-null   float64\n",
            " 5   soja      3342 non-null   float64\n",
            " 6   sorgo     3342 non-null   float64\n",
            " 7   trigo     3342 non-null   float64\n",
            "dtypes: float64(5), int64(1), object(2)\n",
            "memory usage: 235.0+ KB\n"
          ]
        }
      ],
      "source": [
        "df.info()"
      ]
    },
    {
      "cell_type": "markdown",
      "metadata": {
        "id": "lZDlsFKiWhNJ"
      },
      "source": [
        "Se alguma variável que precisa ser de um tipo e não for:"
      ]
    },
    {
      "cell_type": "code",
      "execution_count": 33,
      "metadata": {
        "id": "qVhhHfkUWgNY"
      },
      "outputs": [],
      "source": [
        "# df['mun'] = df['mun'].astype(int)  # transformar códigos em inteiros caso não forem"
      ]
    },
    {
      "cell_type": "markdown",
      "metadata": {
        "id": "Tcc-YX0cRx3j"
      },
      "source": [
        "Podemos unir esses dados com um outro que possui outras informações, como mesorregiões, microrregiões etc. e realizar outras filtragens:"
      ]
    },
    {
      "cell_type": "code",
      "execution_count": 34,
      "metadata": {
        "colab": {
          "base_uri": "https://localhost:8080/",
          "height": 206
        },
        "id": "UMv-y7xQTRQR",
        "outputId": "e8e54b5e-59c4-4e04-97d1-9afd60089b2c"
      },
      "outputs": [
        {
          "data": {
            "application/vnd.microsoft.datawrangler.viewer.v0+json": {
              "columns": [
                {
                  "name": "index",
                  "rawType": "int64",
                  "type": "integer"
                },
                {
                  "name": "nome_mun",
                  "rawType": "object",
                  "type": "string"
                },
                {
                  "name": "codmun6",
                  "rawType": "int64",
                  "type": "integer"
                },
                {
                  "name": "mun",
                  "rawType": "int64",
                  "type": "integer"
                },
                {
                  "name": "micro",
                  "rawType": "int64",
                  "type": "integer"
                },
                {
                  "name": "nome_micro",
                  "rawType": "object",
                  "type": "string"
                },
                {
                  "name": "meso",
                  "rawType": "int64",
                  "type": "integer"
                },
                {
                  "name": "nome_meso",
                  "rawType": "object",
                  "type": "string"
                },
                {
                  "name": "uf",
                  "rawType": "int64",
                  "type": "integer"
                },
                {
                  "name": "sigla_uf",
                  "rawType": "object",
                  "type": "string"
                },
                {
                  "name": "nome_uf",
                  "rawType": "object",
                  "type": "string"
                },
                {
                  "name": "regiao",
                  "rawType": "int64",
                  "type": "integer"
                },
                {
                  "name": "nome_regiao",
                  "rawType": "object",
                  "type": "string"
                },
                {
                  "name": "rm",
                  "rawType": "object",
                  "type": "unknown"
                }
              ],
              "ref": "4d541232-5b9e-4b79-8d48-6f034fa6f638",
              "rows": [
                [
                  "0",
                  "Alta Floresta D'Oeste",
                  "110001",
                  "1100015",
                  "11006",
                  "Cacoal",
                  "1102",
                  "Leste Rondoniense",
                  "11",
                  "RO",
                  "Rondônia",
                  "1",
                  "Norte",
                  null
                ],
                [
                  "1",
                  "Ariquemes",
                  "110002",
                  "1100023",
                  "11003",
                  "Ariquemes",
                  "1102",
                  "Leste Rondoniense",
                  "11",
                  "RO",
                  "Rondônia",
                  "1",
                  "Norte",
                  null
                ],
                [
                  "2",
                  "Cabixi",
                  "110003",
                  "1100031",
                  "11008",
                  "Colorado do Oeste",
                  "1102",
                  "Leste Rondoniense",
                  "11",
                  "RO",
                  "Rondônia",
                  "1",
                  "Norte",
                  null
                ],
                [
                  "3",
                  "Cacoal",
                  "110004",
                  "1100049",
                  "11006",
                  "Cacoal",
                  "1102",
                  "Leste Rondoniense",
                  "11",
                  "RO",
                  "Rondônia",
                  "1",
                  "Norte",
                  null
                ],
                [
                  "4",
                  "Cerejeiras",
                  "110005",
                  "1100056",
                  "11008",
                  "Colorado do Oeste",
                  "1102",
                  "Leste Rondoniense",
                  "11",
                  "RO",
                  "Rondônia",
                  "1",
                  "Norte",
                  null
                ]
              ],
              "shape": {
                "columns": 13,
                "rows": 5
              }
            },
            "text/html": [
              "<div>\n",
              "<style scoped>\n",
              "    .dataframe tbody tr th:only-of-type {\n",
              "        vertical-align: middle;\n",
              "    }\n",
              "\n",
              "    .dataframe tbody tr th {\n",
              "        vertical-align: top;\n",
              "    }\n",
              "\n",
              "    .dataframe thead th {\n",
              "        text-align: right;\n",
              "    }\n",
              "</style>\n",
              "<table border=\"1\" class=\"dataframe\">\n",
              "  <thead>\n",
              "    <tr style=\"text-align: right;\">\n",
              "      <th></th>\n",
              "      <th>nome_mun</th>\n",
              "      <th>codmun6</th>\n",
              "      <th>mun</th>\n",
              "      <th>micro</th>\n",
              "      <th>nome_micro</th>\n",
              "      <th>meso</th>\n",
              "      <th>nome_meso</th>\n",
              "      <th>uf</th>\n",
              "      <th>sigla_uf</th>\n",
              "      <th>nome_uf</th>\n",
              "      <th>regiao</th>\n",
              "      <th>nome_regiao</th>\n",
              "      <th>rm</th>\n",
              "    </tr>\n",
              "  </thead>\n",
              "  <tbody>\n",
              "    <tr>\n",
              "      <th>0</th>\n",
              "      <td>Alta Floresta D'Oeste</td>\n",
              "      <td>110001</td>\n",
              "      <td>1100015</td>\n",
              "      <td>11006</td>\n",
              "      <td>Cacoal</td>\n",
              "      <td>1102</td>\n",
              "      <td>Leste Rondoniense</td>\n",
              "      <td>11</td>\n",
              "      <td>RO</td>\n",
              "      <td>Rondônia</td>\n",
              "      <td>1</td>\n",
              "      <td>Norte</td>\n",
              "      <td>NaN</td>\n",
              "    </tr>\n",
              "    <tr>\n",
              "      <th>1</th>\n",
              "      <td>Ariquemes</td>\n",
              "      <td>110002</td>\n",
              "      <td>1100023</td>\n",
              "      <td>11003</td>\n",
              "      <td>Ariquemes</td>\n",
              "      <td>1102</td>\n",
              "      <td>Leste Rondoniense</td>\n",
              "      <td>11</td>\n",
              "      <td>RO</td>\n",
              "      <td>Rondônia</td>\n",
              "      <td>1</td>\n",
              "      <td>Norte</td>\n",
              "      <td>NaN</td>\n",
              "    </tr>\n",
              "    <tr>\n",
              "      <th>2</th>\n",
              "      <td>Cabixi</td>\n",
              "      <td>110003</td>\n",
              "      <td>1100031</td>\n",
              "      <td>11008</td>\n",
              "      <td>Colorado do Oeste</td>\n",
              "      <td>1102</td>\n",
              "      <td>Leste Rondoniense</td>\n",
              "      <td>11</td>\n",
              "      <td>RO</td>\n",
              "      <td>Rondônia</td>\n",
              "      <td>1</td>\n",
              "      <td>Norte</td>\n",
              "      <td>NaN</td>\n",
              "    </tr>\n",
              "    <tr>\n",
              "      <th>3</th>\n",
              "      <td>Cacoal</td>\n",
              "      <td>110004</td>\n",
              "      <td>1100049</td>\n",
              "      <td>11006</td>\n",
              "      <td>Cacoal</td>\n",
              "      <td>1102</td>\n",
              "      <td>Leste Rondoniense</td>\n",
              "      <td>11</td>\n",
              "      <td>RO</td>\n",
              "      <td>Rondônia</td>\n",
              "      <td>1</td>\n",
              "      <td>Norte</td>\n",
              "      <td>NaN</td>\n",
              "    </tr>\n",
              "    <tr>\n",
              "      <th>4</th>\n",
              "      <td>Cerejeiras</td>\n",
              "      <td>110005</td>\n",
              "      <td>1100056</td>\n",
              "      <td>11008</td>\n",
              "      <td>Colorado do Oeste</td>\n",
              "      <td>1102</td>\n",
              "      <td>Leste Rondoniense</td>\n",
              "      <td>11</td>\n",
              "      <td>RO</td>\n",
              "      <td>Rondônia</td>\n",
              "      <td>1</td>\n",
              "      <td>Norte</td>\n",
              "      <td>NaN</td>\n",
              "    </tr>\n",
              "  </tbody>\n",
              "</table>\n",
              "</div>"
            ],
            "text/plain": [
              "                nome_mun  codmun6      mun  micro         nome_micro  meso  \\\n",
              "0  Alta Floresta D'Oeste   110001  1100015  11006             Cacoal  1102   \n",
              "1              Ariquemes   110002  1100023  11003          Ariquemes  1102   \n",
              "2                 Cabixi   110003  1100031  11008  Colorado do Oeste  1102   \n",
              "3                 Cacoal   110004  1100049  11006             Cacoal  1102   \n",
              "4             Cerejeiras   110005  1100056  11008  Colorado do Oeste  1102   \n",
              "\n",
              "           nome_meso  uf sigla_uf   nome_uf  regiao nome_regiao   rm  \n",
              "0  Leste Rondoniense  11       RO  Rondônia       1       Norte  NaN  \n",
              "1  Leste Rondoniense  11       RO  Rondônia       1       Norte  NaN  \n",
              "2  Leste Rondoniense  11       RO  Rondônia       1       Norte  NaN  \n",
              "3  Leste Rondoniense  11       RO  Rondônia       1       Norte  NaN  \n",
              "4  Leste Rondoniense  11       RO  Rondônia       1       Norte  NaN  "
            ]
          },
          "execution_count": 34,
          "metadata": {},
          "output_type": "execute_result"
        }
      ],
      "source": [
        "# informações sobre as observações\n",
        "cod = pd.read_csv('https://raw.githubusercontent.com/patriciasiqueira/patriciasiqueira.github.io/master/arquivos/codigos-municipios.csv', encoding='utf8')\n",
        "cod.head()"
      ]
    },
    {
      "cell_type": "markdown",
      "metadata": {
        "id": "CoPwHzzzV0Tw"
      },
      "source": [
        "Se precisarmos mudar o nome de alguma coluna de um dos *dataframes* para coincidir:"
      ]
    },
    {
      "cell_type": "code",
      "execution_count": 35,
      "metadata": {
        "id": "BmywE1q-TYN9"
      },
      "outputs": [],
      "source": [
        "# cod.rename(columns={'codmun6': 'cod'}, inplace=True)  # mudar nome da coluna 'codmun6' para 'cod', por exemplo"
      ]
    },
    {
      "cell_type": "markdown",
      "metadata": {
        "id": "5pusUY4iXb4j"
      },
      "source": [
        "Vamos selecionar algumas variáveis de 'cod' para utilizar:"
      ]
    },
    {
      "cell_type": "code",
      "execution_count": 36,
      "metadata": {
        "id": "i_dNMBo2XbVq"
      },
      "outputs": [],
      "source": [
        "cod = cod.loc[:, ['mun', 'nome_micro', 'nome_meso', 'nome_regiao']]"
      ]
    },
    {
      "cell_type": "code",
      "execution_count": 37,
      "metadata": {
        "colab": {
          "base_uri": "https://localhost:8080/",
          "height": 206
        },
        "id": "SnCtdz8CTUix",
        "outputId": "ea5777bb-b118-465e-9065-f31075d3b8c0"
      },
      "outputs": [
        {
          "data": {
            "application/vnd.microsoft.datawrangler.viewer.v0+json": {
              "columns": [
                {
                  "name": "index",
                  "rawType": "int64",
                  "type": "integer"
                },
                {
                  "name": "mun",
                  "rawType": "int64",
                  "type": "integer"
                },
                {
                  "name": "nome_mun",
                  "rawType": "object",
                  "type": "string"
                },
                {
                  "name": "uf",
                  "rawType": "object",
                  "type": "string"
                },
                {
                  "name": "cana",
                  "rawType": "float64",
                  "type": "float"
                },
                {
                  "name": "milho",
                  "rawType": "float64",
                  "type": "float"
                },
                {
                  "name": "soja",
                  "rawType": "float64",
                  "type": "float"
                },
                {
                  "name": "sorgo",
                  "rawType": "float64",
                  "type": "float"
                },
                {
                  "name": "trigo",
                  "rawType": "float64",
                  "type": "float"
                },
                {
                  "name": "nome_micro",
                  "rawType": "object",
                  "type": "string"
                },
                {
                  "name": "nome_meso",
                  "rawType": "object",
                  "type": "string"
                },
                {
                  "name": "nome_regiao",
                  "rawType": "object",
                  "type": "string"
                }
              ],
              "ref": "3150d9d3-243a-4687-b799-6f186410c357",
              "rows": [
                [
                  "0",
                  "1100015",
                  "Alta Floresta D'Oeste ",
                  "RO",
                  "52.0",
                  "5479.0",
                  "2800.0",
                  "0.0",
                  "0.0",
                  "Cacoal",
                  "Leste Rondoniense",
                  "Norte"
                ],
                [
                  "1",
                  "1100023",
                  "Ariquemes ",
                  "RO",
                  "952.0",
                  "3440.0",
                  "9553.0",
                  "0.0",
                  "0.0",
                  "Ariquemes",
                  "Leste Rondoniense",
                  "Norte"
                ],
                [
                  "2",
                  "1100031",
                  "Cabixi ",
                  "RO",
                  "74.0",
                  "49175.0",
                  "73522.0",
                  "0.0",
                  "0.0",
                  "Colorado do Oeste",
                  "Leste Rondoniense",
                  "Norte"
                ],
                [
                  "3",
                  "1100049",
                  "Cacoal ",
                  "RO",
                  "260.0",
                  "2588.0",
                  "3349.0",
                  "0.0",
                  "0.0",
                  "Cacoal",
                  "Leste Rondoniense",
                  "Norte"
                ],
                [
                  "4",
                  "1100064",
                  "Colorado do Oeste ",
                  "RO",
                  "195.0",
                  "3718.0",
                  "4587.0",
                  "0.0",
                  "0.0",
                  "Colorado do Oeste",
                  "Leste Rondoniense",
                  "Norte"
                ]
              ],
              "shape": {
                "columns": 11,
                "rows": 5
              }
            },
            "text/html": [
              "<div>\n",
              "<style scoped>\n",
              "    .dataframe tbody tr th:only-of-type {\n",
              "        vertical-align: middle;\n",
              "    }\n",
              "\n",
              "    .dataframe tbody tr th {\n",
              "        vertical-align: top;\n",
              "    }\n",
              "\n",
              "    .dataframe thead th {\n",
              "        text-align: right;\n",
              "    }\n",
              "</style>\n",
              "<table border=\"1\" class=\"dataframe\">\n",
              "  <thead>\n",
              "    <tr style=\"text-align: right;\">\n",
              "      <th></th>\n",
              "      <th>mun</th>\n",
              "      <th>nome_mun</th>\n",
              "      <th>uf</th>\n",
              "      <th>cana</th>\n",
              "      <th>milho</th>\n",
              "      <th>soja</th>\n",
              "      <th>sorgo</th>\n",
              "      <th>trigo</th>\n",
              "      <th>nome_micro</th>\n",
              "      <th>nome_meso</th>\n",
              "      <th>nome_regiao</th>\n",
              "    </tr>\n",
              "  </thead>\n",
              "  <tbody>\n",
              "    <tr>\n",
              "      <th>0</th>\n",
              "      <td>1100015</td>\n",
              "      <td>Alta Floresta D'Oeste</td>\n",
              "      <td>RO</td>\n",
              "      <td>52.00</td>\n",
              "      <td>5479.00</td>\n",
              "      <td>2800.00</td>\n",
              "      <td>0.00</td>\n",
              "      <td>0.00</td>\n",
              "      <td>Cacoal</td>\n",
              "      <td>Leste Rondoniense</td>\n",
              "      <td>Norte</td>\n",
              "    </tr>\n",
              "    <tr>\n",
              "      <th>1</th>\n",
              "      <td>1100023</td>\n",
              "      <td>Ariquemes</td>\n",
              "      <td>RO</td>\n",
              "      <td>952.00</td>\n",
              "      <td>3440.00</td>\n",
              "      <td>9553.00</td>\n",
              "      <td>0.00</td>\n",
              "      <td>0.00</td>\n",
              "      <td>Ariquemes</td>\n",
              "      <td>Leste Rondoniense</td>\n",
              "      <td>Norte</td>\n",
              "    </tr>\n",
              "    <tr>\n",
              "      <th>2</th>\n",
              "      <td>1100031</td>\n",
              "      <td>Cabixi</td>\n",
              "      <td>RO</td>\n",
              "      <td>74.00</td>\n",
              "      <td>49175.00</td>\n",
              "      <td>73522.00</td>\n",
              "      <td>0.00</td>\n",
              "      <td>0.00</td>\n",
              "      <td>Colorado do Oeste</td>\n",
              "      <td>Leste Rondoniense</td>\n",
              "      <td>Norte</td>\n",
              "    </tr>\n",
              "    <tr>\n",
              "      <th>3</th>\n",
              "      <td>1100049</td>\n",
              "      <td>Cacoal</td>\n",
              "      <td>RO</td>\n",
              "      <td>260.00</td>\n",
              "      <td>2588.00</td>\n",
              "      <td>3349.00</td>\n",
              "      <td>0.00</td>\n",
              "      <td>0.00</td>\n",
              "      <td>Cacoal</td>\n",
              "      <td>Leste Rondoniense</td>\n",
              "      <td>Norte</td>\n",
              "    </tr>\n",
              "    <tr>\n",
              "      <th>4</th>\n",
              "      <td>1100064</td>\n",
              "      <td>Colorado do Oeste</td>\n",
              "      <td>RO</td>\n",
              "      <td>195.00</td>\n",
              "      <td>3718.00</td>\n",
              "      <td>4587.00</td>\n",
              "      <td>0.00</td>\n",
              "      <td>0.00</td>\n",
              "      <td>Colorado do Oeste</td>\n",
              "      <td>Leste Rondoniense</td>\n",
              "      <td>Norte</td>\n",
              "    </tr>\n",
              "  </tbody>\n",
              "</table>\n",
              "</div>"
            ],
            "text/plain": [
              "       mun                nome_mun  uf   cana    milho     soja  sorgo  trigo  \\\n",
              "0  1100015  Alta Floresta D'Oeste   RO  52.00  5479.00  2800.00   0.00   0.00   \n",
              "1  1100023              Ariquemes   RO 952.00  3440.00  9553.00   0.00   0.00   \n",
              "2  1100031                 Cabixi   RO  74.00 49175.00 73522.00   0.00   0.00   \n",
              "3  1100049                 Cacoal   RO 260.00  2588.00  3349.00   0.00   0.00   \n",
              "4  1100064      Colorado do Oeste   RO 195.00  3718.00  4587.00   0.00   0.00   \n",
              "\n",
              "          nome_micro          nome_meso nome_regiao  \n",
              "0             Cacoal  Leste Rondoniense       Norte  \n",
              "1          Ariquemes  Leste Rondoniense       Norte  \n",
              "2  Colorado do Oeste  Leste Rondoniense       Norte  \n",
              "3             Cacoal  Leste Rondoniense       Norte  \n",
              "4  Colorado do Oeste  Leste Rondoniense       Norte  "
            ]
          },
          "execution_count": 37,
          "metadata": {},
          "output_type": "execute_result"
        }
      ],
      "source": [
        "# mesclar os dois dataframes\n",
        "df3 = df.merge(cod, on='mun')\n",
        "df3.head()"
      ]
    },
    {
      "cell_type": "markdown",
      "metadata": {
        "id": "ATBery7_WtwO"
      },
      "source": [
        "Se quisermos tirar alguma variável (coluna):"
      ]
    },
    {
      "cell_type": "code",
      "execution_count": 38,
      "metadata": {
        "id": "e7_OruzfWstY"
      },
      "outputs": [],
      "source": [
        "# apagar coluna redundante com o nome do município\n",
        "df3 = df3.drop('nome_micro', axis=1)"
      ]
    },
    {
      "cell_type": "code",
      "execution_count": 39,
      "metadata": {
        "colab": {
          "base_uri": "https://localhost:8080/",
          "height": 206
        },
        "id": "84H6mxzXeqGF",
        "outputId": "38c5043e-7c35-4741-c6a3-08aa017c930e"
      },
      "outputs": [
        {
          "data": {
            "application/vnd.microsoft.datawrangler.viewer.v0+json": {
              "columns": [
                {
                  "name": "index",
                  "rawType": "int64",
                  "type": "integer"
                },
                {
                  "name": "mun",
                  "rawType": "int64",
                  "type": "integer"
                },
                {
                  "name": "nome_mun",
                  "rawType": "object",
                  "type": "string"
                },
                {
                  "name": "uf",
                  "rawType": "object",
                  "type": "string"
                },
                {
                  "name": "cana",
                  "rawType": "float64",
                  "type": "float"
                },
                {
                  "name": "milho",
                  "rawType": "float64",
                  "type": "float"
                },
                {
                  "name": "soja",
                  "rawType": "float64",
                  "type": "float"
                },
                {
                  "name": "sorgo",
                  "rawType": "float64",
                  "type": "float"
                },
                {
                  "name": "trigo",
                  "rawType": "float64",
                  "type": "float"
                },
                {
                  "name": "nome_meso",
                  "rawType": "object",
                  "type": "string"
                },
                {
                  "name": "nome_regiao",
                  "rawType": "object",
                  "type": "string"
                }
              ],
              "ref": "3df6a72c-3945-4b14-8179-d2c05c98bd61",
              "rows": [
                [
                  "0",
                  "1100015",
                  "Alta Floresta D'Oeste ",
                  "RO",
                  "52.0",
                  "5479.0",
                  "2800.0",
                  "0.0",
                  "0.0",
                  "Leste Rondoniense",
                  "Norte"
                ],
                [
                  "1",
                  "1100023",
                  "Ariquemes ",
                  "RO",
                  "952.0",
                  "3440.0",
                  "9553.0",
                  "0.0",
                  "0.0",
                  "Leste Rondoniense",
                  "Norte"
                ],
                [
                  "2",
                  "1100031",
                  "Cabixi ",
                  "RO",
                  "74.0",
                  "49175.0",
                  "73522.0",
                  "0.0",
                  "0.0",
                  "Leste Rondoniense",
                  "Norte"
                ],
                [
                  "3",
                  "1100049",
                  "Cacoal ",
                  "RO",
                  "260.0",
                  "2588.0",
                  "3349.0",
                  "0.0",
                  "0.0",
                  "Leste Rondoniense",
                  "Norte"
                ],
                [
                  "4",
                  "1100064",
                  "Colorado do Oeste ",
                  "RO",
                  "195.0",
                  "3718.0",
                  "4587.0",
                  "0.0",
                  "0.0",
                  "Leste Rondoniense",
                  "Norte"
                ]
              ],
              "shape": {
                "columns": 10,
                "rows": 5
              }
            },
            "text/html": [
              "<div>\n",
              "<style scoped>\n",
              "    .dataframe tbody tr th:only-of-type {\n",
              "        vertical-align: middle;\n",
              "    }\n",
              "\n",
              "    .dataframe tbody tr th {\n",
              "        vertical-align: top;\n",
              "    }\n",
              "\n",
              "    .dataframe thead th {\n",
              "        text-align: right;\n",
              "    }\n",
              "</style>\n",
              "<table border=\"1\" class=\"dataframe\">\n",
              "  <thead>\n",
              "    <tr style=\"text-align: right;\">\n",
              "      <th></th>\n",
              "      <th>mun</th>\n",
              "      <th>nome_mun</th>\n",
              "      <th>uf</th>\n",
              "      <th>cana</th>\n",
              "      <th>milho</th>\n",
              "      <th>soja</th>\n",
              "      <th>sorgo</th>\n",
              "      <th>trigo</th>\n",
              "      <th>nome_meso</th>\n",
              "      <th>nome_regiao</th>\n",
              "    </tr>\n",
              "  </thead>\n",
              "  <tbody>\n",
              "    <tr>\n",
              "      <th>0</th>\n",
              "      <td>1100015</td>\n",
              "      <td>Alta Floresta D'Oeste</td>\n",
              "      <td>RO</td>\n",
              "      <td>52.00</td>\n",
              "      <td>5479.00</td>\n",
              "      <td>2800.00</td>\n",
              "      <td>0.00</td>\n",
              "      <td>0.00</td>\n",
              "      <td>Leste Rondoniense</td>\n",
              "      <td>Norte</td>\n",
              "    </tr>\n",
              "    <tr>\n",
              "      <th>1</th>\n",
              "      <td>1100023</td>\n",
              "      <td>Ariquemes</td>\n",
              "      <td>RO</td>\n",
              "      <td>952.00</td>\n",
              "      <td>3440.00</td>\n",
              "      <td>9553.00</td>\n",
              "      <td>0.00</td>\n",
              "      <td>0.00</td>\n",
              "      <td>Leste Rondoniense</td>\n",
              "      <td>Norte</td>\n",
              "    </tr>\n",
              "    <tr>\n",
              "      <th>2</th>\n",
              "      <td>1100031</td>\n",
              "      <td>Cabixi</td>\n",
              "      <td>RO</td>\n",
              "      <td>74.00</td>\n",
              "      <td>49175.00</td>\n",
              "      <td>73522.00</td>\n",
              "      <td>0.00</td>\n",
              "      <td>0.00</td>\n",
              "      <td>Leste Rondoniense</td>\n",
              "      <td>Norte</td>\n",
              "    </tr>\n",
              "    <tr>\n",
              "      <th>3</th>\n",
              "      <td>1100049</td>\n",
              "      <td>Cacoal</td>\n",
              "      <td>RO</td>\n",
              "      <td>260.00</td>\n",
              "      <td>2588.00</td>\n",
              "      <td>3349.00</td>\n",
              "      <td>0.00</td>\n",
              "      <td>0.00</td>\n",
              "      <td>Leste Rondoniense</td>\n",
              "      <td>Norte</td>\n",
              "    </tr>\n",
              "    <tr>\n",
              "      <th>4</th>\n",
              "      <td>1100064</td>\n",
              "      <td>Colorado do Oeste</td>\n",
              "      <td>RO</td>\n",
              "      <td>195.00</td>\n",
              "      <td>3718.00</td>\n",
              "      <td>4587.00</td>\n",
              "      <td>0.00</td>\n",
              "      <td>0.00</td>\n",
              "      <td>Leste Rondoniense</td>\n",
              "      <td>Norte</td>\n",
              "    </tr>\n",
              "  </tbody>\n",
              "</table>\n",
              "</div>"
            ],
            "text/plain": [
              "       mun                nome_mun  uf   cana    milho     soja  sorgo  trigo  \\\n",
              "0  1100015  Alta Floresta D'Oeste   RO  52.00  5479.00  2800.00   0.00   0.00   \n",
              "1  1100023              Ariquemes   RO 952.00  3440.00  9553.00   0.00   0.00   \n",
              "2  1100031                 Cabixi   RO  74.00 49175.00 73522.00   0.00   0.00   \n",
              "3  1100049                 Cacoal   RO 260.00  2588.00  3349.00   0.00   0.00   \n",
              "4  1100064      Colorado do Oeste   RO 195.00  3718.00  4587.00   0.00   0.00   \n",
              "\n",
              "           nome_meso nome_regiao  \n",
              "0  Leste Rondoniense       Norte  \n",
              "1  Leste Rondoniense       Norte  \n",
              "2  Leste Rondoniense       Norte  \n",
              "3  Leste Rondoniense       Norte  \n",
              "4  Leste Rondoniense       Norte  "
            ]
          },
          "execution_count": 39,
          "metadata": {},
          "output_type": "execute_result"
        }
      ],
      "source": [
        "df3.head()"
      ]
    },
    {
      "cell_type": "code",
      "execution_count": 40,
      "metadata": {
        "id": "I1R9j05Oe39U"
      },
      "outputs": [],
      "source": [
        "df3.to_excel('producao-qtde-br.xlsx', index=False)"
      ]
    },
    {
      "cell_type": "markdown",
      "metadata": {
        "id": "t72YX7OFyVqK"
      },
      "source": [
        "# Valor da produção (milhares de reais) em 2017"
      ]
    },
    {
      "cell_type": "markdown",
      "metadata": {
        "id": "8aJsgfajyVqf"
      },
      "source": [
        "Antes, carregar os dados no ambiente colab (na pastinha à esquerda, fazer upload do arquivo tabela6957.xlsx)."
      ]
    },
    {
      "cell_type": "code",
      "execution_count": 41,
      "metadata": {
        "id": "Kr-r4V8fyVqf"
      },
      "outputs": [],
      "source": [
        "# sheet_name=1 significa a segunda planilha do arquivo\n",
        "df = pd.read_excel('tabela6957.xlsx', sheet_name=1)"
      ]
    },
    {
      "cell_type": "markdown",
      "metadata": {
        "id": "l4uZMiSdyVqg"
      },
      "source": [
        "Vamos ver as primeiras linhas do *dataframe*:"
      ]
    },
    {
      "cell_type": "code",
      "execution_count": 42,
      "metadata": {
        "colab": {
          "base_uri": "https://localhost:8080/",
          "height": 449
        },
        "id": "2f9PmP4zyVqg",
        "outputId": "3b9bf54e-d0fc-462c-9f79-6e25dfc98a88"
      },
      "outputs": [
        {
          "data": {
            "application/vnd.microsoft.datawrangler.viewer.v0+json": {
              "columns": [
                {
                  "name": "index",
                  "rawType": "int64",
                  "type": "integer"
                },
                {
                  "name": "Tabela 6957 - Produção, Valor da produção, Venda, Valor da venda e Área colhida da lavoura temporária nos estabelecimentos agropecuários, por tipologia, produtos da lavoura temporária, condição do produtor em relação às terras e grupos de atividade econômica",
                  "rawType": "object",
                  "type": "unknown"
                },
                {
                  "name": "Unnamed: 1",
                  "rawType": "object",
                  "type": "unknown"
                },
                {
                  "name": "Unnamed: 2",
                  "rawType": "object",
                  "type": "unknown"
                },
                {
                  "name": "Unnamed: 3",
                  "rawType": "object",
                  "type": "unknown"
                },
                {
                  "name": "Unnamed: 4",
                  "rawType": "object",
                  "type": "unknown"
                },
                {
                  "name": "Unnamed: 5",
                  "rawType": "object",
                  "type": "unknown"
                },
                {
                  "name": "Unnamed: 6",
                  "rawType": "object",
                  "type": "unknown"
                },
                {
                  "name": "Unnamed: 7",
                  "rawType": "object",
                  "type": "unknown"
                },
                {
                  "name": "Unnamed: 8",
                  "rawType": "object",
                  "type": "unknown"
                },
                {
                  "name": "Unnamed: 9",
                  "rawType": "object",
                  "type": "unknown"
                }
              ],
              "ref": "71d1d2a4-67e1-47ba-8bca-957554b697f4",
              "rows": [
                [
                  "0",
                  "Variável - Valor da produção das lavouras temporárias (Mil Reais)",
                  null,
                  null,
                  null,
                  null,
                  null,
                  null,
                  null,
                  null,
                  null
                ],
                [
                  "1",
                  "Nível",
                  "Cód.",
                  "Município e Mesorregião Geográfica",
                  "Condição do produtor em relação às terras",
                  "Grupos de atividade econômica",
                  "Ano x Tipologia x Produtos da lavoura temporária",
                  null,
                  null,
                  null,
                  null
                ],
                [
                  "2",
                  null,
                  null,
                  null,
                  null,
                  null,
                  "2017",
                  null,
                  null,
                  null,
                  null
                ],
                [
                  "3",
                  null,
                  null,
                  null,
                  null,
                  null,
                  "Total",
                  null,
                  null,
                  null,
                  null
                ],
                [
                  "4",
                  null,
                  null,
                  null,
                  null,
                  null,
                  "Cana-de-açúcar",
                  "Milho em grão",
                  "Soja em grão",
                  "Sorgo em grão",
                  "Trigo em grão"
                ]
              ],
              "shape": {
                "columns": 10,
                "rows": 5
              }
            },
            "text/html": [
              "<div>\n",
              "<style scoped>\n",
              "    .dataframe tbody tr th:only-of-type {\n",
              "        vertical-align: middle;\n",
              "    }\n",
              "\n",
              "    .dataframe tbody tr th {\n",
              "        vertical-align: top;\n",
              "    }\n",
              "\n",
              "    .dataframe thead th {\n",
              "        text-align: right;\n",
              "    }\n",
              "</style>\n",
              "<table border=\"1\" class=\"dataframe\">\n",
              "  <thead>\n",
              "    <tr style=\"text-align: right;\">\n",
              "      <th></th>\n",
              "      <th>Tabela 6957 - Produção, Valor da produção, Venda, Valor da venda e Área colhida da lavoura temporária nos estabelecimentos agropecuários, por tipologia, produtos da lavoura temporária, condição do produtor em relação às terras e grupos de atividade econômica</th>\n",
              "      <th>Unnamed: 1</th>\n",
              "      <th>Unnamed: 2</th>\n",
              "      <th>Unnamed: 3</th>\n",
              "      <th>Unnamed: 4</th>\n",
              "      <th>Unnamed: 5</th>\n",
              "      <th>Unnamed: 6</th>\n",
              "      <th>Unnamed: 7</th>\n",
              "      <th>Unnamed: 8</th>\n",
              "      <th>Unnamed: 9</th>\n",
              "    </tr>\n",
              "  </thead>\n",
              "  <tbody>\n",
              "    <tr>\n",
              "      <th>0</th>\n",
              "      <td>Variável - Valor da produção das lavouras temp...</td>\n",
              "      <td>NaN</td>\n",
              "      <td>NaN</td>\n",
              "      <td>NaN</td>\n",
              "      <td>NaN</td>\n",
              "      <td>NaN</td>\n",
              "      <td>NaN</td>\n",
              "      <td>NaN</td>\n",
              "      <td>NaN</td>\n",
              "      <td>NaN</td>\n",
              "    </tr>\n",
              "    <tr>\n",
              "      <th>1</th>\n",
              "      <td>Nível</td>\n",
              "      <td>Cód.</td>\n",
              "      <td>Município e Mesorregião Geográfica</td>\n",
              "      <td>Condição do produtor em relação às terras</td>\n",
              "      <td>Grupos de atividade econômica</td>\n",
              "      <td>Ano x Tipologia x Produtos da lavoura temporária</td>\n",
              "      <td>NaN</td>\n",
              "      <td>NaN</td>\n",
              "      <td>NaN</td>\n",
              "      <td>NaN</td>\n",
              "    </tr>\n",
              "    <tr>\n",
              "      <th>2</th>\n",
              "      <td>NaN</td>\n",
              "      <td>NaN</td>\n",
              "      <td>NaN</td>\n",
              "      <td>NaN</td>\n",
              "      <td>NaN</td>\n",
              "      <td>2017</td>\n",
              "      <td>NaN</td>\n",
              "      <td>NaN</td>\n",
              "      <td>NaN</td>\n",
              "      <td>NaN</td>\n",
              "    </tr>\n",
              "    <tr>\n",
              "      <th>3</th>\n",
              "      <td>NaN</td>\n",
              "      <td>NaN</td>\n",
              "      <td>NaN</td>\n",
              "      <td>NaN</td>\n",
              "      <td>NaN</td>\n",
              "      <td>Total</td>\n",
              "      <td>NaN</td>\n",
              "      <td>NaN</td>\n",
              "      <td>NaN</td>\n",
              "      <td>NaN</td>\n",
              "    </tr>\n",
              "    <tr>\n",
              "      <th>4</th>\n",
              "      <td>NaN</td>\n",
              "      <td>NaN</td>\n",
              "      <td>NaN</td>\n",
              "      <td>NaN</td>\n",
              "      <td>NaN</td>\n",
              "      <td>Cana-de-açúcar</td>\n",
              "      <td>Milho em grão</td>\n",
              "      <td>Soja em grão</td>\n",
              "      <td>Sorgo em grão</td>\n",
              "      <td>Trigo em grão</td>\n",
              "    </tr>\n",
              "  </tbody>\n",
              "</table>\n",
              "</div>"
            ],
            "text/plain": [
              "  Tabela 6957 - Produção, Valor da produção, Venda, Valor da venda e Área colhida da lavoura temporária nos estabelecimentos agropecuários, por tipologia, produtos da lavoura temporária, condição do produtor em relação às terras e grupos de atividade econômica  \\\n",
              "0  Variável - Valor da produção das lavouras temp...                                                                                                                                                                                                                   \n",
              "1                                              Nível                                                                                                                                                                                                                   \n",
              "2                                                NaN                                                                                                                                                                                                                   \n",
              "3                                                NaN                                                                                                                                                                                                                   \n",
              "4                                                NaN                                                                                                                                                                                                                   \n",
              "\n",
              "  Unnamed: 1                          Unnamed: 2  \\\n",
              "0        NaN                                 NaN   \n",
              "1       Cód.  Município e Mesorregião Geográfica   \n",
              "2        NaN                                 NaN   \n",
              "3        NaN                                 NaN   \n",
              "4        NaN                                 NaN   \n",
              "\n",
              "                                  Unnamed: 3                     Unnamed: 4  \\\n",
              "0                                        NaN                            NaN   \n",
              "1  Condição do produtor em relação às terras  Grupos de atividade econômica   \n",
              "2                                        NaN                            NaN   \n",
              "3                                        NaN                            NaN   \n",
              "4                                        NaN                            NaN   \n",
              "\n",
              "                                         Unnamed: 5     Unnamed: 6  \\\n",
              "0                                               NaN            NaN   \n",
              "1  Ano x Tipologia x Produtos da lavoura temporária            NaN   \n",
              "2                                              2017            NaN   \n",
              "3                                             Total            NaN   \n",
              "4                                    Cana-de-açúcar  Milho em grão   \n",
              "\n",
              "     Unnamed: 7     Unnamed: 8     Unnamed: 9  \n",
              "0           NaN            NaN            NaN  \n",
              "1           NaN            NaN            NaN  \n",
              "2           NaN            NaN            NaN  \n",
              "3           NaN            NaN            NaN  \n",
              "4  Soja em grão  Sorgo em grão  Trigo em grão  "
            ]
          },
          "execution_count": 42,
          "metadata": {},
          "output_type": "execute_result"
        }
      ],
      "source": [
        "df.head()"
      ]
    },
    {
      "cell_type": "markdown",
      "metadata": {
        "id": "GWXakHENyVqh"
      },
      "source": [
        "Vamos realizar algumas alterações:\n",
        "\n",
        "- começar a ler da linha 6, ou seja, vamos pular 5 linhas\n",
        "- a última linha também é desnecessária, vamos desconsiderá-la\n",
        "- não queremos ler as colunas 0, 3 e 4 (Nível, Condições, Grupos de atividade econômica)\n",
        "- para ajudar a visualizar os dados, vamos já alterar os nomes das colunas"
      ]
    },
    {
      "cell_type": "code",
      "execution_count": 43,
      "metadata": {
        "colab": {
          "base_uri": "https://localhost:8080/"
        },
        "id": "JqikDFoPyVqh",
        "outputId": "c7a7fbd5-dc86-493f-f19b-ee384a432074"
      },
      "outputs": [
        {
          "data": {
            "text/plain": [
              "[1, 2, 5, 6, 7, 8, 9]"
            ]
          },
          "execution_count": 43,
          "metadata": {},
          "output_type": "execute_result"
        }
      ],
      "source": [
        "# criar uma lista com os índices das colunas a retirar\n",
        "pular = [0, 3, 4]\n",
        "# criar uma lista com os índices das colunas a manter\n",
        "cols = [i for i in range(len(df.columns)) if i not in pular]\n",
        "# índices das colunas a manter\n",
        "cols"
      ]
    },
    {
      "cell_type": "code",
      "execution_count": 44,
      "metadata": {
        "id": "YQmKGhCiyVqi"
      },
      "outputs": [],
      "source": [
        "# ler os dados desconsiderando as 5 primeiras linhas e a última linha\n",
        "# considerar as colunas que estão na lista 'cols'\n",
        "df = pd.read_excel('tabela6957.xlsx', skiprows=5, skipfooter=1, usecols=cols, sheet_name=1)\n",
        "# alterar os nomes das colunas\n",
        "df.columns = ['mun', 'nome_mun', 'cana', 'milho', 'soja', 'sorgo', 'trigo']"
      ]
    },
    {
      "cell_type": "code",
      "execution_count": 45,
      "metadata": {
        "colab": {
          "base_uri": "https://localhost:8080/",
          "height": 206
        },
        "id": "rVstZsgRyVqj",
        "outputId": "a5ad8980-fabf-44ca-c9a4-a8705bd74772"
      },
      "outputs": [
        {
          "data": {
            "application/vnd.microsoft.datawrangler.viewer.v0+json": {
              "columns": [
                {
                  "name": "index",
                  "rawType": "int64",
                  "type": "integer"
                },
                {
                  "name": "mun",
                  "rawType": "int64",
                  "type": "integer"
                },
                {
                  "name": "nome_mun",
                  "rawType": "object",
                  "type": "string"
                },
                {
                  "name": "cana",
                  "rawType": "object",
                  "type": "unknown"
                },
                {
                  "name": "milho",
                  "rawType": "object",
                  "type": "unknown"
                },
                {
                  "name": "soja",
                  "rawType": "object",
                  "type": "unknown"
                },
                {
                  "name": "sorgo",
                  "rawType": "object",
                  "type": "string"
                },
                {
                  "name": "trigo",
                  "rawType": "object",
                  "type": "string"
                }
              ],
              "ref": "442ba04b-6c8e-4549-9a73-47f78c70e488",
              "rows": [
                [
                  "0",
                  "1100015",
                  "Alta Floresta D'Oeste (RO)",
                  "132",
                  "4787",
                  "2855",
                  "-",
                  "-"
                ],
                [
                  "1",
                  "1100023",
                  "Ariquemes (RO)",
                  "881",
                  "1741",
                  "9157",
                  "-",
                  "-"
                ],
                [
                  "2",
                  "1100031",
                  "Cabixi (RO)",
                  "201",
                  "17672",
                  "70275",
                  "-",
                  "-"
                ],
                [
                  "3",
                  "1100049",
                  "Cacoal (RO)",
                  "137",
                  "1290",
                  "3681",
                  "-",
                  "-"
                ],
                [
                  "4",
                  "1100056",
                  "Cerejeiras (RO)",
                  "114",
                  "32419",
                  "102921",
                  "X",
                  "-"
                ]
              ],
              "shape": {
                "columns": 7,
                "rows": 5
              }
            },
            "text/html": [
              "<div>\n",
              "<style scoped>\n",
              "    .dataframe tbody tr th:only-of-type {\n",
              "        vertical-align: middle;\n",
              "    }\n",
              "\n",
              "    .dataframe tbody tr th {\n",
              "        vertical-align: top;\n",
              "    }\n",
              "\n",
              "    .dataframe thead th {\n",
              "        text-align: right;\n",
              "    }\n",
              "</style>\n",
              "<table border=\"1\" class=\"dataframe\">\n",
              "  <thead>\n",
              "    <tr style=\"text-align: right;\">\n",
              "      <th></th>\n",
              "      <th>mun</th>\n",
              "      <th>nome_mun</th>\n",
              "      <th>cana</th>\n",
              "      <th>milho</th>\n",
              "      <th>soja</th>\n",
              "      <th>sorgo</th>\n",
              "      <th>trigo</th>\n",
              "    </tr>\n",
              "  </thead>\n",
              "  <tbody>\n",
              "    <tr>\n",
              "      <th>0</th>\n",
              "      <td>1100015</td>\n",
              "      <td>Alta Floresta D'Oeste (RO)</td>\n",
              "      <td>132</td>\n",
              "      <td>4787</td>\n",
              "      <td>2855</td>\n",
              "      <td>-</td>\n",
              "      <td>-</td>\n",
              "    </tr>\n",
              "    <tr>\n",
              "      <th>1</th>\n",
              "      <td>1100023</td>\n",
              "      <td>Ariquemes (RO)</td>\n",
              "      <td>881</td>\n",
              "      <td>1741</td>\n",
              "      <td>9157</td>\n",
              "      <td>-</td>\n",
              "      <td>-</td>\n",
              "    </tr>\n",
              "    <tr>\n",
              "      <th>2</th>\n",
              "      <td>1100031</td>\n",
              "      <td>Cabixi (RO)</td>\n",
              "      <td>201</td>\n",
              "      <td>17672</td>\n",
              "      <td>70275</td>\n",
              "      <td>-</td>\n",
              "      <td>-</td>\n",
              "    </tr>\n",
              "    <tr>\n",
              "      <th>3</th>\n",
              "      <td>1100049</td>\n",
              "      <td>Cacoal (RO)</td>\n",
              "      <td>137</td>\n",
              "      <td>1290</td>\n",
              "      <td>3681</td>\n",
              "      <td>-</td>\n",
              "      <td>-</td>\n",
              "    </tr>\n",
              "    <tr>\n",
              "      <th>4</th>\n",
              "      <td>1100056</td>\n",
              "      <td>Cerejeiras (RO)</td>\n",
              "      <td>114</td>\n",
              "      <td>32419</td>\n",
              "      <td>102921</td>\n",
              "      <td>X</td>\n",
              "      <td>-</td>\n",
              "    </tr>\n",
              "  </tbody>\n",
              "</table>\n",
              "</div>"
            ],
            "text/plain": [
              "       mun                    nome_mun cana  milho    soja sorgo trigo\n",
              "0  1100015  Alta Floresta D'Oeste (RO)  132   4787    2855     -     -\n",
              "1  1100023              Ariquemes (RO)  881   1741    9157     -     -\n",
              "2  1100031                 Cabixi (RO)  201  17672   70275     -     -\n",
              "3  1100049                 Cacoal (RO)  137   1290    3681     -     -\n",
              "4  1100056             Cerejeiras (RO)  114  32419  102921     X     -"
            ]
          },
          "execution_count": 45,
          "metadata": {},
          "output_type": "execute_result"
        }
      ],
      "source": [
        "df.head()"
      ]
    },
    {
      "cell_type": "markdown",
      "metadata": {
        "id": "6JCteUbgyVqj"
      },
      "source": [
        "Número de observações e variáveis do conjunto de dados:"
      ]
    },
    {
      "cell_type": "code",
      "execution_count": 46,
      "metadata": {
        "colab": {
          "base_uri": "https://localhost:8080/"
        },
        "id": "hT9MKtx_yVqk",
        "outputId": "28a761e1-e729-4cdb-a2b0-1bc761cd2fd5"
      },
      "outputs": [
        {
          "data": {
            "text/plain": [
              "(5692, 7)"
            ]
          },
          "execution_count": 46,
          "metadata": {},
          "output_type": "execute_result"
        }
      ],
      "source": [
        "df.shape"
      ]
    },
    {
      "cell_type": "markdown",
      "metadata": {
        "id": "okmjF6vNyVqk"
      },
      "source": [
        "- A coluna 'município' tem o nome do município e, entre parênteses, a sigla do estado.\n",
        "- Vamos usar a função str.split para dividir o conteúdo a partir de '(':"
      ]
    },
    {
      "cell_type": "code",
      "execution_count": 47,
      "metadata": {
        "colab": {
          "base_uri": "https://localhost:8080/",
          "height": 206
        },
        "id": "_irtQyaLyVql",
        "outputId": "4c7944a9-3706-45af-b976-0ca3316ab1f8"
      },
      "outputs": [
        {
          "data": {
            "application/vnd.microsoft.datawrangler.viewer.v0+json": {
              "columns": [
                {
                  "name": "index",
                  "rawType": "int64",
                  "type": "integer"
                },
                {
                  "name": "mun",
                  "rawType": "int64",
                  "type": "integer"
                },
                {
                  "name": "nome_mun",
                  "rawType": "object",
                  "type": "string"
                },
                {
                  "name": "cana",
                  "rawType": "object",
                  "type": "unknown"
                },
                {
                  "name": "milho",
                  "rawType": "object",
                  "type": "unknown"
                },
                {
                  "name": "soja",
                  "rawType": "object",
                  "type": "unknown"
                },
                {
                  "name": "sorgo",
                  "rawType": "object",
                  "type": "string"
                },
                {
                  "name": "trigo",
                  "rawType": "object",
                  "type": "string"
                },
                {
                  "name": "sigla_uf",
                  "rawType": "object",
                  "type": "string"
                }
              ],
              "ref": "9a48fee1-fc06-4d95-bf86-f8d100a976ad",
              "rows": [
                [
                  "0",
                  "1100015",
                  "Alta Floresta D'Oeste ",
                  "132",
                  "4787",
                  "2855",
                  "-",
                  "-",
                  "RO)"
                ],
                [
                  "1",
                  "1100023",
                  "Ariquemes ",
                  "881",
                  "1741",
                  "9157",
                  "-",
                  "-",
                  "RO)"
                ],
                [
                  "2",
                  "1100031",
                  "Cabixi ",
                  "201",
                  "17672",
                  "70275",
                  "-",
                  "-",
                  "RO)"
                ],
                [
                  "3",
                  "1100049",
                  "Cacoal ",
                  "137",
                  "1290",
                  "3681",
                  "-",
                  "-",
                  "RO)"
                ],
                [
                  "4",
                  "1100056",
                  "Cerejeiras ",
                  "114",
                  "32419",
                  "102921",
                  "X",
                  "-",
                  "RO)"
                ]
              ],
              "shape": {
                "columns": 8,
                "rows": 5
              }
            },
            "text/html": [
              "<div>\n",
              "<style scoped>\n",
              "    .dataframe tbody tr th:only-of-type {\n",
              "        vertical-align: middle;\n",
              "    }\n",
              "\n",
              "    .dataframe tbody tr th {\n",
              "        vertical-align: top;\n",
              "    }\n",
              "\n",
              "    .dataframe thead th {\n",
              "        text-align: right;\n",
              "    }\n",
              "</style>\n",
              "<table border=\"1\" class=\"dataframe\">\n",
              "  <thead>\n",
              "    <tr style=\"text-align: right;\">\n",
              "      <th></th>\n",
              "      <th>mun</th>\n",
              "      <th>nome_mun</th>\n",
              "      <th>cana</th>\n",
              "      <th>milho</th>\n",
              "      <th>soja</th>\n",
              "      <th>sorgo</th>\n",
              "      <th>trigo</th>\n",
              "      <th>sigla_uf</th>\n",
              "    </tr>\n",
              "  </thead>\n",
              "  <tbody>\n",
              "    <tr>\n",
              "      <th>0</th>\n",
              "      <td>1100015</td>\n",
              "      <td>Alta Floresta D'Oeste</td>\n",
              "      <td>132</td>\n",
              "      <td>4787</td>\n",
              "      <td>2855</td>\n",
              "      <td>-</td>\n",
              "      <td>-</td>\n",
              "      <td>RO)</td>\n",
              "    </tr>\n",
              "    <tr>\n",
              "      <th>1</th>\n",
              "      <td>1100023</td>\n",
              "      <td>Ariquemes</td>\n",
              "      <td>881</td>\n",
              "      <td>1741</td>\n",
              "      <td>9157</td>\n",
              "      <td>-</td>\n",
              "      <td>-</td>\n",
              "      <td>RO)</td>\n",
              "    </tr>\n",
              "    <tr>\n",
              "      <th>2</th>\n",
              "      <td>1100031</td>\n",
              "      <td>Cabixi</td>\n",
              "      <td>201</td>\n",
              "      <td>17672</td>\n",
              "      <td>70275</td>\n",
              "      <td>-</td>\n",
              "      <td>-</td>\n",
              "      <td>RO)</td>\n",
              "    </tr>\n",
              "    <tr>\n",
              "      <th>3</th>\n",
              "      <td>1100049</td>\n",
              "      <td>Cacoal</td>\n",
              "      <td>137</td>\n",
              "      <td>1290</td>\n",
              "      <td>3681</td>\n",
              "      <td>-</td>\n",
              "      <td>-</td>\n",
              "      <td>RO)</td>\n",
              "    </tr>\n",
              "    <tr>\n",
              "      <th>4</th>\n",
              "      <td>1100056</td>\n",
              "      <td>Cerejeiras</td>\n",
              "      <td>114</td>\n",
              "      <td>32419</td>\n",
              "      <td>102921</td>\n",
              "      <td>X</td>\n",
              "      <td>-</td>\n",
              "      <td>RO)</td>\n",
              "    </tr>\n",
              "  </tbody>\n",
              "</table>\n",
              "</div>"
            ],
            "text/plain": [
              "       mun                nome_mun cana  milho    soja sorgo trigo sigla_uf\n",
              "0  1100015  Alta Floresta D'Oeste   132   4787    2855     -     -      RO)\n",
              "1  1100023              Ariquemes   881   1741    9157     -     -      RO)\n",
              "2  1100031                 Cabixi   201  17672   70275     -     -      RO)\n",
              "3  1100049                 Cacoal   137   1290    3681     -     -      RO)\n",
              "4  1100056             Cerejeiras   114  32419  102921     X     -      RO)"
            ]
          },
          "execution_count": 47,
          "metadata": {},
          "output_type": "execute_result"
        }
      ],
      "source": [
        "# a opção 'expand=True' divide a string e já permite criar as colunas com os\n",
        "# conteúdos divididos\n",
        "df[['nome_mun', 'sigla_uf']] = df['nome_mun'].str.split('(', expand=True)\n",
        "df.head()"
      ]
    },
    {
      "cell_type": "markdown",
      "metadata": {
        "id": "oxRvcjubyVql"
      },
      "source": [
        "- A coluna 'sigla_uf' tem o ')' no final.\n",
        "- Vamos usar a função str.replace para substituir ')' por nada\n",
        "- regex significa 'expressões regulares', uma sequência de caracteres que podem ser pesquisados, substituídos etc."
      ]
    },
    {
      "cell_type": "code",
      "execution_count": 48,
      "metadata": {
        "colab": {
          "base_uri": "https://localhost:8080/",
          "height": 206
        },
        "id": "AFWV7Uk8yVqm",
        "outputId": "a95cd6ed-2525-4cf2-94bc-73997a36b77d"
      },
      "outputs": [
        {
          "name": "stderr",
          "output_type": "stream",
          "text": [
            "<>:1: SyntaxWarning: invalid escape sequence '\\)'\n",
            "<>:1: SyntaxWarning: invalid escape sequence '\\)'\n",
            "C:\\Users\\paulo\\AppData\\Local\\Temp\\ipykernel_5280\\2152733839.py:1: SyntaxWarning: invalid escape sequence '\\)'\n",
            "  df['sigla_uf'] = df['sigla_uf'].str.replace('\\)', '', regex=True)\n"
          ]
        },
        {
          "data": {
            "application/vnd.microsoft.datawrangler.viewer.v0+json": {
              "columns": [
                {
                  "name": "index",
                  "rawType": "int64",
                  "type": "integer"
                },
                {
                  "name": "mun",
                  "rawType": "int64",
                  "type": "integer"
                },
                {
                  "name": "nome_mun",
                  "rawType": "object",
                  "type": "string"
                },
                {
                  "name": "cana",
                  "rawType": "object",
                  "type": "unknown"
                },
                {
                  "name": "milho",
                  "rawType": "object",
                  "type": "unknown"
                },
                {
                  "name": "soja",
                  "rawType": "object",
                  "type": "unknown"
                },
                {
                  "name": "sorgo",
                  "rawType": "object",
                  "type": "string"
                },
                {
                  "name": "trigo",
                  "rawType": "object",
                  "type": "string"
                },
                {
                  "name": "sigla_uf",
                  "rawType": "object",
                  "type": "string"
                }
              ],
              "ref": "a6b597ee-0388-4c48-9129-0cba63b4829d",
              "rows": [
                [
                  "0",
                  "1100015",
                  "Alta Floresta D'Oeste ",
                  "132",
                  "4787",
                  "2855",
                  "-",
                  "-",
                  "RO"
                ],
                [
                  "1",
                  "1100023",
                  "Ariquemes ",
                  "881",
                  "1741",
                  "9157",
                  "-",
                  "-",
                  "RO"
                ],
                [
                  "2",
                  "1100031",
                  "Cabixi ",
                  "201",
                  "17672",
                  "70275",
                  "-",
                  "-",
                  "RO"
                ],
                [
                  "3",
                  "1100049",
                  "Cacoal ",
                  "137",
                  "1290",
                  "3681",
                  "-",
                  "-",
                  "RO"
                ],
                [
                  "4",
                  "1100056",
                  "Cerejeiras ",
                  "114",
                  "32419",
                  "102921",
                  "X",
                  "-",
                  "RO"
                ]
              ],
              "shape": {
                "columns": 8,
                "rows": 5
              }
            },
            "text/html": [
              "<div>\n",
              "<style scoped>\n",
              "    .dataframe tbody tr th:only-of-type {\n",
              "        vertical-align: middle;\n",
              "    }\n",
              "\n",
              "    .dataframe tbody tr th {\n",
              "        vertical-align: top;\n",
              "    }\n",
              "\n",
              "    .dataframe thead th {\n",
              "        text-align: right;\n",
              "    }\n",
              "</style>\n",
              "<table border=\"1\" class=\"dataframe\">\n",
              "  <thead>\n",
              "    <tr style=\"text-align: right;\">\n",
              "      <th></th>\n",
              "      <th>mun</th>\n",
              "      <th>nome_mun</th>\n",
              "      <th>cana</th>\n",
              "      <th>milho</th>\n",
              "      <th>soja</th>\n",
              "      <th>sorgo</th>\n",
              "      <th>trigo</th>\n",
              "      <th>sigla_uf</th>\n",
              "    </tr>\n",
              "  </thead>\n",
              "  <tbody>\n",
              "    <tr>\n",
              "      <th>0</th>\n",
              "      <td>1100015</td>\n",
              "      <td>Alta Floresta D'Oeste</td>\n",
              "      <td>132</td>\n",
              "      <td>4787</td>\n",
              "      <td>2855</td>\n",
              "      <td>-</td>\n",
              "      <td>-</td>\n",
              "      <td>RO</td>\n",
              "    </tr>\n",
              "    <tr>\n",
              "      <th>1</th>\n",
              "      <td>1100023</td>\n",
              "      <td>Ariquemes</td>\n",
              "      <td>881</td>\n",
              "      <td>1741</td>\n",
              "      <td>9157</td>\n",
              "      <td>-</td>\n",
              "      <td>-</td>\n",
              "      <td>RO</td>\n",
              "    </tr>\n",
              "    <tr>\n",
              "      <th>2</th>\n",
              "      <td>1100031</td>\n",
              "      <td>Cabixi</td>\n",
              "      <td>201</td>\n",
              "      <td>17672</td>\n",
              "      <td>70275</td>\n",
              "      <td>-</td>\n",
              "      <td>-</td>\n",
              "      <td>RO</td>\n",
              "    </tr>\n",
              "    <tr>\n",
              "      <th>3</th>\n",
              "      <td>1100049</td>\n",
              "      <td>Cacoal</td>\n",
              "      <td>137</td>\n",
              "      <td>1290</td>\n",
              "      <td>3681</td>\n",
              "      <td>-</td>\n",
              "      <td>-</td>\n",
              "      <td>RO</td>\n",
              "    </tr>\n",
              "    <tr>\n",
              "      <th>4</th>\n",
              "      <td>1100056</td>\n",
              "      <td>Cerejeiras</td>\n",
              "      <td>114</td>\n",
              "      <td>32419</td>\n",
              "      <td>102921</td>\n",
              "      <td>X</td>\n",
              "      <td>-</td>\n",
              "      <td>RO</td>\n",
              "    </tr>\n",
              "  </tbody>\n",
              "</table>\n",
              "</div>"
            ],
            "text/plain": [
              "       mun                nome_mun cana  milho    soja sorgo trigo sigla_uf\n",
              "0  1100015  Alta Floresta D'Oeste   132   4787    2855     -     -       RO\n",
              "1  1100023              Ariquemes   881   1741    9157     -     -       RO\n",
              "2  1100031                 Cabixi   201  17672   70275     -     -       RO\n",
              "3  1100049                 Cacoal   137   1290    3681     -     -       RO\n",
              "4  1100056             Cerejeiras   114  32419  102921     X     -       RO"
            ]
          },
          "execution_count": 48,
          "metadata": {},
          "output_type": "execute_result"
        }
      ],
      "source": [
        "df['sigla_uf'] = df['sigla_uf'].str.replace('\\)', '', regex=True)\n",
        "df.head()"
      ]
    },
    {
      "cell_type": "code",
      "execution_count": 49,
      "metadata": {
        "colab": {
          "base_uri": "https://localhost:8080/"
        },
        "id": "jfkm0_18yVqm",
        "outputId": "9e547f69-6ae1-4d3a-9c69-ce47509a52fa"
      },
      "outputs": [
        {
          "data": {
            "text/plain": [
              "Index(['mun', 'nome_mun', 'cana', 'milho', 'soja', 'sorgo', 'trigo',\n",
              "       'sigla_uf'],\n",
              "      dtype='object')"
            ]
          },
          "execution_count": 49,
          "metadata": {},
          "output_type": "execute_result"
        }
      ],
      "source": [
        "df.columns"
      ]
    },
    {
      "cell_type": "code",
      "execution_count": 50,
      "metadata": {
        "id": "u39i5uEtyVqn"
      },
      "outputs": [],
      "source": [
        "# reorganizar as colunas\n",
        "df = df.loc[:, ['mun', 'nome_mun', 'sigla_uf', 'cana', 'milho', 'soja', 'sorgo', 'trigo']]"
      ]
    },
    {
      "cell_type": "markdown",
      "metadata": {
        "id": "5dMw07eByVqn"
      },
      "source": [
        "Há valores faltantes?"
      ]
    },
    {
      "cell_type": "code",
      "execution_count": 51,
      "metadata": {
        "colab": {
          "base_uri": "https://localhost:8080/",
          "height": 335
        },
        "id": "AVYvX70zyVqn",
        "outputId": "30db212c-fc3c-436a-cfb2-ef467e4ac758"
      },
      "outputs": [
        {
          "data": {
            "application/vnd.microsoft.datawrangler.viewer.v0+json": {
              "columns": [
                {
                  "name": "index",
                  "rawType": "object",
                  "type": "string"
                },
                {
                  "name": "0",
                  "rawType": "int64",
                  "type": "integer"
                }
              ],
              "ref": "944241be-d5f0-4ac8-8ce6-9052aa21c086",
              "rows": [
                [
                  "mun",
                  "0"
                ],
                [
                  "nome_mun",
                  "0"
                ],
                [
                  "sigla_uf",
                  "0"
                ],
                [
                  "cana",
                  "0"
                ],
                [
                  "milho",
                  "0"
                ],
                [
                  "soja",
                  "0"
                ],
                [
                  "sorgo",
                  "0"
                ],
                [
                  "trigo",
                  "0"
                ]
              ],
              "shape": {
                "columns": 1,
                "rows": 8
              }
            },
            "text/plain": [
              "mun         0\n",
              "nome_mun    0\n",
              "sigla_uf    0\n",
              "cana        0\n",
              "milho       0\n",
              "soja        0\n",
              "sorgo       0\n",
              "trigo       0\n",
              "dtype: int64"
            ]
          },
          "execution_count": 51,
          "metadata": {},
          "output_type": "execute_result"
        }
      ],
      "source": [
        "df.isna().sum()"
      ]
    },
    {
      "cell_type": "code",
      "execution_count": 52,
      "metadata": {
        "colab": {
          "base_uri": "https://localhost:8080/"
        },
        "id": "XIvPeIZXyVqo",
        "outputId": "c9b87eba-8673-40d9-d73c-f57373035e9d"
      },
      "outputs": [
        {
          "name": "stdout",
          "output_type": "stream",
          "text": [
            "cana   \n",
            "-          1005\n",
            "X           969\n",
            "3            43\n",
            "2            43\n",
            "8            41\n",
            "           ... \n",
            "275           1\n",
            "4014513       1\n",
            "272           1\n",
            "268           1\n",
            "948532        1\n",
            "Name: count, Length: 1860, dtype: int64\n",
            "milho \n",
            "X         199\n",
            "-         110\n",
            "1          34\n",
            "2          32\n",
            "3          32\n",
            "         ... \n",
            "505284      1\n",
            "521231      1\n",
            "602977      1\n",
            "643115      1\n",
            "662901      1\n",
            "Name: count, Length: 2929, dtype: int64\n",
            "soja   \n",
            "-          3157\n",
            "X           605\n",
            "6887          3\n",
            "2318          3\n",
            "1516          3\n",
            "           ... \n",
            "1461289       1\n",
            "1530414       1\n",
            "1677763       1\n",
            "1724117       1\n",
            "1877327       1\n",
            "Name: count, Length: 1884, dtype: int64\n",
            "sorgo \n",
            "-         4401\n",
            "X          725\n",
            "2           19\n",
            "6           16\n",
            "1           13\n",
            "          ... \n",
            "164928       1\n",
            "35352        1\n",
            "28760        1\n",
            "25300        1\n",
            "22529        1\n",
            "Name: count, Length: 387, dtype: int64\n",
            "trigo \n",
            "-         4687\n",
            "X          272\n",
            "271          4\n",
            "1615         2\n",
            "976          2\n",
            "          ... \n",
            "220484       1\n",
            "246270       1\n",
            "947816       1\n",
            "52334        1\n",
            "50149        1\n",
            "Name: count, Length: 698, dtype: int64\n"
          ]
        }
      ],
      "source": [
        "print(df[['cana']].value_counts())\n",
        "print(df[['milho']].value_counts())\n",
        "print(df[['soja']].value_counts())\n",
        "print(df[['sorgo']].value_counts())\n",
        "print(df[['trigo']].value_counts())"
      ]
    },
    {
      "cell_type": "markdown",
      "metadata": {
        "id": "btbTdQAoyVqo"
      },
      "source": [
        "Nas notas da planilha, há as seguintes informações:\n",
        "\n",
        "* -: zero absoluto, não resultante de um cálculo ou arredondamento.\n",
        "* 0: zero resultante de um cálculo ou arredondamento.\n",
        "* X: valor inibido para não identificar o informante.\n",
        "* ..: valor não se aplica\n",
        "* ...: valor não disponível\n"
      ]
    },
    {
      "cell_type": "markdown",
      "metadata": {
        "id": "L04InbrayVqp"
      },
      "source": [
        "Primeira abordagem: substituir todos esses valores por 0.\n",
        "\n",
        "Mas antes, vamos fazer uma cópia dos dados que já trabalhamos:"
      ]
    },
    {
      "cell_type": "code",
      "execution_count": 53,
      "metadata": {
        "id": "iJUKGts2yVqp"
      },
      "outputs": [],
      "source": [
        "df1 = df.copy()"
      ]
    },
    {
      "cell_type": "code",
      "execution_count": 54,
      "metadata": {
        "colab": {
          "base_uri": "https://localhost:8080/"
        },
        "id": "smIKvvxHyVqq",
        "outputId": "f6f83a85-201b-4a7c-edee-8d8fa53eaa08"
      },
      "outputs": [
        {
          "name": "stderr",
          "output_type": "stream",
          "text": [
            "C:\\Users\\paulo\\AppData\\Local\\Temp\\ipykernel_5280\\4095862805.py:1: FutureWarning: Downcasting behavior in `replace` is deprecated and will be removed in a future version. To retain the old behavior, explicitly call `result.infer_objects(copy=False)`. To opt-in to the future behavior, set `pd.set_option('future.no_silent_downcasting', True)`\n",
            "  df1 = df1.replace(['-', '...', 'X'], 0)\n"
          ]
        }
      ],
      "source": [
        "df1 = df1.replace(['-', '...', 'X'], 0)"
      ]
    },
    {
      "cell_type": "markdown",
      "metadata": {
        "id": "6UJifK0-yVqq"
      },
      "source": [
        "Antes de limpar mais os dados, vamos visualizar o resumo estatístico:"
      ]
    },
    {
      "cell_type": "code",
      "execution_count": 55,
      "metadata": {
        "colab": {
          "base_uri": "https://localhost:8080/",
          "height": 300
        },
        "id": "em2Oi9XVyVqq",
        "outputId": "f0d5047a-b3f2-4404-b85f-6d0a2745c36d"
      },
      "outputs": [
        {
          "data": {
            "application/vnd.microsoft.datawrangler.viewer.v0+json": {
              "columns": [
                {
                  "name": "index",
                  "rawType": "object",
                  "type": "string"
                },
                {
                  "name": "cana",
                  "rawType": "float64",
                  "type": "float"
                },
                {
                  "name": "milho",
                  "rawType": "float64",
                  "type": "float"
                },
                {
                  "name": "soja",
                  "rawType": "float64",
                  "type": "float"
                },
                {
                  "name": "sorgo",
                  "rawType": "float64",
                  "type": "float"
                },
                {
                  "name": "trigo",
                  "rawType": "float64",
                  "type": "float"
                }
              ],
              "ref": "09d69f94-15dd-49fd-b177-83ab519535b2",
              "rows": [
                [
                  "count",
                  "5692.0",
                  "5692.0",
                  "5692.0",
                  "5692.0",
                  "5692.0"
                ],
                [
                  "mean",
                  "16628.267568517218",
                  "12025.764054813773",
                  "36402.30990864371",
                  "201.10857343640197",
                  "934.4144413211525"
                ],
                [
                  "std",
                  "162826.43806916388",
                  "107027.65139879195",
                  "349087.0846443996",
                  "3335.4809586628",
                  "14166.066374882403"
                ],
                [
                  "min",
                  "0.0",
                  "0.0",
                  "0.0",
                  "0.0",
                  "0.0"
                ],
                [
                  "25%",
                  "0.0",
                  "95.0",
                  "0.0",
                  "0.0",
                  "0.0"
                ],
                [
                  "50%",
                  "42.0",
                  "528.0",
                  "0.0",
                  "0.0",
                  "0.0"
                ],
                [
                  "75%",
                  "622.25",
                  "3323.25",
                  "4698.75",
                  "0.0",
                  "0.0"
                ],
                [
                  "max",
                  "6633796.0",
                  "5380909.0",
                  "18017383.0",
                  "168782.0",
                  "947816.0"
                ]
              ],
              "shape": {
                "columns": 5,
                "rows": 8
              }
            },
            "text/html": [
              "<div>\n",
              "<style scoped>\n",
              "    .dataframe tbody tr th:only-of-type {\n",
              "        vertical-align: middle;\n",
              "    }\n",
              "\n",
              "    .dataframe tbody tr th {\n",
              "        vertical-align: top;\n",
              "    }\n",
              "\n",
              "    .dataframe thead th {\n",
              "        text-align: right;\n",
              "    }\n",
              "</style>\n",
              "<table border=\"1\" class=\"dataframe\">\n",
              "  <thead>\n",
              "    <tr style=\"text-align: right;\">\n",
              "      <th></th>\n",
              "      <th>cana</th>\n",
              "      <th>milho</th>\n",
              "      <th>soja</th>\n",
              "      <th>sorgo</th>\n",
              "      <th>trigo</th>\n",
              "    </tr>\n",
              "  </thead>\n",
              "  <tbody>\n",
              "    <tr>\n",
              "      <th>count</th>\n",
              "      <td>5692.00</td>\n",
              "      <td>5692.00</td>\n",
              "      <td>5692.00</td>\n",
              "      <td>5692.00</td>\n",
              "      <td>5692.00</td>\n",
              "    </tr>\n",
              "    <tr>\n",
              "      <th>mean</th>\n",
              "      <td>16628.27</td>\n",
              "      <td>12025.76</td>\n",
              "      <td>36402.31</td>\n",
              "      <td>201.11</td>\n",
              "      <td>934.41</td>\n",
              "    </tr>\n",
              "    <tr>\n",
              "      <th>std</th>\n",
              "      <td>162826.44</td>\n",
              "      <td>107027.65</td>\n",
              "      <td>349087.08</td>\n",
              "      <td>3335.48</td>\n",
              "      <td>14166.07</td>\n",
              "    </tr>\n",
              "    <tr>\n",
              "      <th>min</th>\n",
              "      <td>0.00</td>\n",
              "      <td>0.00</td>\n",
              "      <td>0.00</td>\n",
              "      <td>0.00</td>\n",
              "      <td>0.00</td>\n",
              "    </tr>\n",
              "    <tr>\n",
              "      <th>25%</th>\n",
              "      <td>0.00</td>\n",
              "      <td>95.00</td>\n",
              "      <td>0.00</td>\n",
              "      <td>0.00</td>\n",
              "      <td>0.00</td>\n",
              "    </tr>\n",
              "    <tr>\n",
              "      <th>50%</th>\n",
              "      <td>42.00</td>\n",
              "      <td>528.00</td>\n",
              "      <td>0.00</td>\n",
              "      <td>0.00</td>\n",
              "      <td>0.00</td>\n",
              "    </tr>\n",
              "    <tr>\n",
              "      <th>75%</th>\n",
              "      <td>622.25</td>\n",
              "      <td>3323.25</td>\n",
              "      <td>4698.75</td>\n",
              "      <td>0.00</td>\n",
              "      <td>0.00</td>\n",
              "    </tr>\n",
              "    <tr>\n",
              "      <th>max</th>\n",
              "      <td>6633796.00</td>\n",
              "      <td>5380909.00</td>\n",
              "      <td>18017383.00</td>\n",
              "      <td>168782.00</td>\n",
              "      <td>947816.00</td>\n",
              "    </tr>\n",
              "  </tbody>\n",
              "</table>\n",
              "</div>"
            ],
            "text/plain": [
              "            cana      milho        soja     sorgo     trigo\n",
              "count    5692.00    5692.00     5692.00   5692.00   5692.00\n",
              "mean    16628.27   12025.76    36402.31    201.11    934.41\n",
              "std    162826.44  107027.65   349087.08   3335.48  14166.07\n",
              "min         0.00       0.00        0.00      0.00      0.00\n",
              "25%         0.00      95.00        0.00      0.00      0.00\n",
              "50%        42.00     528.00        0.00      0.00      0.00\n",
              "75%       622.25    3323.25     4698.75      0.00      0.00\n",
              "max   6633796.00 5380909.00 18017383.00 168782.00 947816.00"
            ]
          },
          "execution_count": 55,
          "metadata": {},
          "output_type": "execute_result"
        }
      ],
      "source": [
        "# resumo estatístico\n",
        "df1.iloc[:, 3:].describe()"
      ]
    },
    {
      "cell_type": "markdown",
      "metadata": {
        "id": "NzBWRuiHyVqr"
      },
      "source": [
        "Agora vamos adotar outra estratégia:\n",
        "- substituir por 0 se aparecer -\n",
        "- retirar as linhas em que aparecerem X, .. ou ...\n",
        "\n",
        "Vamos fazer outra cópia do *dataframe* df:"
      ]
    },
    {
      "cell_type": "code",
      "execution_count": 56,
      "metadata": {
        "id": "KRlIJBHvyVqr"
      },
      "outputs": [],
      "source": [
        "df2 = df.copy()"
      ]
    },
    {
      "cell_type": "code",
      "execution_count": 57,
      "metadata": {
        "colab": {
          "base_uri": "https://localhost:8080/",
          "height": 261
        },
        "id": "1ylTKbRhyVqs",
        "outputId": "caf3d3af-c1c3-444f-cf14-0573f30482f6"
      },
      "outputs": [
        {
          "name": "stderr",
          "output_type": "stream",
          "text": [
            "C:\\Users\\paulo\\AppData\\Local\\Temp\\ipykernel_5280\\714886366.py:2: FutureWarning: Downcasting behavior in `replace` is deprecated and will be removed in a future version. To retain the old behavior, explicitly call `result.infer_objects(copy=False)`. To opt-in to the future behavior, set `pd.set_option('future.no_silent_downcasting', True)`\n",
            "  df2 = df2.replace(['X', '..', '...'], np.nan).dropna(axis=0, how='any')\n"
          ]
        },
        {
          "data": {
            "application/vnd.microsoft.datawrangler.viewer.v0+json": {
              "columns": [
                {
                  "name": "index",
                  "rawType": "int64",
                  "type": "integer"
                },
                {
                  "name": "mun",
                  "rawType": "int64",
                  "type": "integer"
                },
                {
                  "name": "nome_mun",
                  "rawType": "object",
                  "type": "string"
                },
                {
                  "name": "sigla_uf",
                  "rawType": "object",
                  "type": "string"
                },
                {
                  "name": "cana",
                  "rawType": "float64",
                  "type": "float"
                },
                {
                  "name": "milho",
                  "rawType": "float64",
                  "type": "float"
                },
                {
                  "name": "soja",
                  "rawType": "float64",
                  "type": "float"
                },
                {
                  "name": "sorgo",
                  "rawType": "float64",
                  "type": "float"
                },
                {
                  "name": "trigo",
                  "rawType": "float64",
                  "type": "float"
                }
              ],
              "ref": "503ef51e-243b-4bf5-b2f8-111e7802acb9",
              "rows": [
                [
                  "0",
                  "1100015",
                  "Alta Floresta D'Oeste ",
                  "RO",
                  "132.0",
                  "4787.0",
                  "2855.0",
                  "0.0",
                  "0.0"
                ],
                [
                  "1",
                  "1100023",
                  "Ariquemes ",
                  "RO",
                  "881.0",
                  "1741.0",
                  "9157.0",
                  "0.0",
                  "0.0"
                ],
                [
                  "2",
                  "1100031",
                  "Cabixi ",
                  "RO",
                  "201.0",
                  "17672.0",
                  "70275.0",
                  "0.0",
                  "0.0"
                ],
                [
                  "3",
                  "1100049",
                  "Cacoal ",
                  "RO",
                  "137.0",
                  "1290.0",
                  "3681.0",
                  "0.0",
                  "0.0"
                ],
                [
                  "5",
                  "1100064",
                  "Colorado do Oeste ",
                  "RO",
                  "363.0",
                  "1268.0",
                  "4245.0",
                  "0.0",
                  "0.0"
                ]
              ],
              "shape": {
                "columns": 8,
                "rows": 5
              }
            },
            "text/html": [
              "<div>\n",
              "<style scoped>\n",
              "    .dataframe tbody tr th:only-of-type {\n",
              "        vertical-align: middle;\n",
              "    }\n",
              "\n",
              "    .dataframe tbody tr th {\n",
              "        vertical-align: top;\n",
              "    }\n",
              "\n",
              "    .dataframe thead th {\n",
              "        text-align: right;\n",
              "    }\n",
              "</style>\n",
              "<table border=\"1\" class=\"dataframe\">\n",
              "  <thead>\n",
              "    <tr style=\"text-align: right;\">\n",
              "      <th></th>\n",
              "      <th>mun</th>\n",
              "      <th>nome_mun</th>\n",
              "      <th>sigla_uf</th>\n",
              "      <th>cana</th>\n",
              "      <th>milho</th>\n",
              "      <th>soja</th>\n",
              "      <th>sorgo</th>\n",
              "      <th>trigo</th>\n",
              "    </tr>\n",
              "  </thead>\n",
              "  <tbody>\n",
              "    <tr>\n",
              "      <th>0</th>\n",
              "      <td>1100015</td>\n",
              "      <td>Alta Floresta D'Oeste</td>\n",
              "      <td>RO</td>\n",
              "      <td>132.00</td>\n",
              "      <td>4787.00</td>\n",
              "      <td>2855.00</td>\n",
              "      <td>0.00</td>\n",
              "      <td>0.00</td>\n",
              "    </tr>\n",
              "    <tr>\n",
              "      <th>1</th>\n",
              "      <td>1100023</td>\n",
              "      <td>Ariquemes</td>\n",
              "      <td>RO</td>\n",
              "      <td>881.00</td>\n",
              "      <td>1741.00</td>\n",
              "      <td>9157.00</td>\n",
              "      <td>0.00</td>\n",
              "      <td>0.00</td>\n",
              "    </tr>\n",
              "    <tr>\n",
              "      <th>2</th>\n",
              "      <td>1100031</td>\n",
              "      <td>Cabixi</td>\n",
              "      <td>RO</td>\n",
              "      <td>201.00</td>\n",
              "      <td>17672.00</td>\n",
              "      <td>70275.00</td>\n",
              "      <td>0.00</td>\n",
              "      <td>0.00</td>\n",
              "    </tr>\n",
              "    <tr>\n",
              "      <th>3</th>\n",
              "      <td>1100049</td>\n",
              "      <td>Cacoal</td>\n",
              "      <td>RO</td>\n",
              "      <td>137.00</td>\n",
              "      <td>1290.00</td>\n",
              "      <td>3681.00</td>\n",
              "      <td>0.00</td>\n",
              "      <td>0.00</td>\n",
              "    </tr>\n",
              "    <tr>\n",
              "      <th>5</th>\n",
              "      <td>1100064</td>\n",
              "      <td>Colorado do Oeste</td>\n",
              "      <td>RO</td>\n",
              "      <td>363.00</td>\n",
              "      <td>1268.00</td>\n",
              "      <td>4245.00</td>\n",
              "      <td>0.00</td>\n",
              "      <td>0.00</td>\n",
              "    </tr>\n",
              "  </tbody>\n",
              "</table>\n",
              "</div>"
            ],
            "text/plain": [
              "       mun                nome_mun sigla_uf   cana    milho     soja  sorgo  \\\n",
              "0  1100015  Alta Floresta D'Oeste        RO 132.00  4787.00  2855.00   0.00   \n",
              "1  1100023              Ariquemes        RO 881.00  1741.00  9157.00   0.00   \n",
              "2  1100031                 Cabixi        RO 201.00 17672.00 70275.00   0.00   \n",
              "3  1100049                 Cacoal        RO 137.00  1290.00  3681.00   0.00   \n",
              "5  1100064      Colorado do Oeste        RO 363.00  1268.00  4245.00   0.00   \n",
              "\n",
              "   trigo  \n",
              "0   0.00  \n",
              "1   0.00  \n",
              "2   0.00  \n",
              "3   0.00  \n",
              "5   0.00  "
            ]
          },
          "execution_count": 57,
          "metadata": {},
          "output_type": "execute_result"
        }
      ],
      "source": [
        "df2 = df2.replace(['-'], 0)\n",
        "df2 = df2.replace(['X', '..', '...'], np.nan).dropna(axis=0, how='any')\n",
        "df2.head()"
      ]
    },
    {
      "cell_type": "code",
      "execution_count": 58,
      "metadata": {
        "colab": {
          "base_uri": "https://localhost:8080/",
          "height": 300
        },
        "id": "bQ1wdMKryVqs",
        "outputId": "3e7f0718-80ca-40ed-c426-a178a3e7729d"
      },
      "outputs": [
        {
          "data": {
            "application/vnd.microsoft.datawrangler.viewer.v0+json": {
              "columns": [
                {
                  "name": "index",
                  "rawType": "object",
                  "type": "string"
                },
                {
                  "name": "cana",
                  "rawType": "float64",
                  "type": "float"
                },
                {
                  "name": "milho",
                  "rawType": "float64",
                  "type": "float"
                },
                {
                  "name": "soja",
                  "rawType": "float64",
                  "type": "float"
                },
                {
                  "name": "sorgo",
                  "rawType": "float64",
                  "type": "float"
                },
                {
                  "name": "trigo",
                  "rawType": "float64",
                  "type": "float"
                }
              ],
              "ref": "636c0b31-820c-47a8-a895-cfdbd3d431dc",
              "rows": [
                [
                  "count",
                  "3372.0",
                  "3372.0",
                  "3372.0",
                  "3372.0",
                  "3372.0"
                ],
                [
                  "mean",
                  "21391.77491103203",
                  "14144.976275207591",
                  "44605.945136417555",
                  "285.4181494661922",
                  "1173.1112099644129"
                ],
                [
                  "std",
                  "207795.02540414297",
                  "133981.5131610447",
                  "441759.40680970624",
                  "4268.020118573133",
                  "17655.276057570693"
                ],
                [
                  "min",
                  "0.0",
                  "0.0",
                  "0.0",
                  "0.0",
                  "0.0"
                ],
                [
                  "25%",
                  "2.0",
                  "84.0",
                  "0.0",
                  "0.0",
                  "0.0"
                ],
                [
                  "50%",
                  "82.0",
                  "462.5",
                  "0.0",
                  "0.0",
                  "0.0"
                ],
                [
                  "75%",
                  "754.25",
                  "3300.75",
                  "5219.0",
                  "0.0",
                  "0.0"
                ],
                [
                  "max",
                  "6633796.0",
                  "5380909.0",
                  "18017383.0",
                  "168782.0",
                  "947816.0"
                ]
              ],
              "shape": {
                "columns": 5,
                "rows": 8
              }
            },
            "text/html": [
              "<div>\n",
              "<style scoped>\n",
              "    .dataframe tbody tr th:only-of-type {\n",
              "        vertical-align: middle;\n",
              "    }\n",
              "\n",
              "    .dataframe tbody tr th {\n",
              "        vertical-align: top;\n",
              "    }\n",
              "\n",
              "    .dataframe thead th {\n",
              "        text-align: right;\n",
              "    }\n",
              "</style>\n",
              "<table border=\"1\" class=\"dataframe\">\n",
              "  <thead>\n",
              "    <tr style=\"text-align: right;\">\n",
              "      <th></th>\n",
              "      <th>cana</th>\n",
              "      <th>milho</th>\n",
              "      <th>soja</th>\n",
              "      <th>sorgo</th>\n",
              "      <th>trigo</th>\n",
              "    </tr>\n",
              "  </thead>\n",
              "  <tbody>\n",
              "    <tr>\n",
              "      <th>count</th>\n",
              "      <td>3372.00</td>\n",
              "      <td>3372.00</td>\n",
              "      <td>3372.00</td>\n",
              "      <td>3372.00</td>\n",
              "      <td>3372.00</td>\n",
              "    </tr>\n",
              "    <tr>\n",
              "      <th>mean</th>\n",
              "      <td>21391.77</td>\n",
              "      <td>14144.98</td>\n",
              "      <td>44605.95</td>\n",
              "      <td>285.42</td>\n",
              "      <td>1173.11</td>\n",
              "    </tr>\n",
              "    <tr>\n",
              "      <th>std</th>\n",
              "      <td>207795.03</td>\n",
              "      <td>133981.51</td>\n",
              "      <td>441759.41</td>\n",
              "      <td>4268.02</td>\n",
              "      <td>17655.28</td>\n",
              "    </tr>\n",
              "    <tr>\n",
              "      <th>min</th>\n",
              "      <td>0.00</td>\n",
              "      <td>0.00</td>\n",
              "      <td>0.00</td>\n",
              "      <td>0.00</td>\n",
              "      <td>0.00</td>\n",
              "    </tr>\n",
              "    <tr>\n",
              "      <th>25%</th>\n",
              "      <td>2.00</td>\n",
              "      <td>84.00</td>\n",
              "      <td>0.00</td>\n",
              "      <td>0.00</td>\n",
              "      <td>0.00</td>\n",
              "    </tr>\n",
              "    <tr>\n",
              "      <th>50%</th>\n",
              "      <td>82.00</td>\n",
              "      <td>462.50</td>\n",
              "      <td>0.00</td>\n",
              "      <td>0.00</td>\n",
              "      <td>0.00</td>\n",
              "    </tr>\n",
              "    <tr>\n",
              "      <th>75%</th>\n",
              "      <td>754.25</td>\n",
              "      <td>3300.75</td>\n",
              "      <td>5219.00</td>\n",
              "      <td>0.00</td>\n",
              "      <td>0.00</td>\n",
              "    </tr>\n",
              "    <tr>\n",
              "      <th>max</th>\n",
              "      <td>6633796.00</td>\n",
              "      <td>5380909.00</td>\n",
              "      <td>18017383.00</td>\n",
              "      <td>168782.00</td>\n",
              "      <td>947816.00</td>\n",
              "    </tr>\n",
              "  </tbody>\n",
              "</table>\n",
              "</div>"
            ],
            "text/plain": [
              "            cana      milho        soja     sorgo     trigo\n",
              "count    3372.00    3372.00     3372.00   3372.00   3372.00\n",
              "mean    21391.77   14144.98    44605.95    285.42   1173.11\n",
              "std    207795.03  133981.51   441759.41   4268.02  17655.28\n",
              "min         0.00       0.00        0.00      0.00      0.00\n",
              "25%         2.00      84.00        0.00      0.00      0.00\n",
              "50%        82.00     462.50        0.00      0.00      0.00\n",
              "75%       754.25    3300.75     5219.00      0.00      0.00\n",
              "max   6633796.00 5380909.00 18017383.00 168782.00 947816.00"
            ]
          },
          "execution_count": 58,
          "metadata": {},
          "output_type": "execute_result"
        }
      ],
      "source": [
        "df2.iloc[:, 3:].describe()"
      ]
    },
    {
      "cell_type": "markdown",
      "metadata": {
        "id": "fOc8z6xWyVqt"
      },
      "source": [
        "Se quisermos salvar o novo arquivo:"
      ]
    },
    {
      "cell_type": "code",
      "execution_count": 59,
      "metadata": {
        "colab": {
          "base_uri": "https://localhost:8080/"
        },
        "id": "hjnIGRnryVqt",
        "outputId": "6e85f6b1-ca82-4494-9b19-0603051c2e68"
      },
      "outputs": [
        {
          "data": {
            "text/plain": [
              "(3372, 8)"
            ]
          },
          "execution_count": 59,
          "metadata": {},
          "output_type": "execute_result"
        }
      ],
      "source": [
        "df2.shape"
      ]
    },
    {
      "cell_type": "code",
      "execution_count": 60,
      "metadata": {
        "id": "v5yJvmAkyVqt"
      },
      "outputs": [],
      "source": [
        "df2.to_excel('valor-6957.xlsx', index=False)"
      ]
    },
    {
      "cell_type": "code",
      "execution_count": null,
      "metadata": {
        "id": "ktV_4oiOiNOV"
      },
      "outputs": [],
      "source": []
    }
  ],
  "metadata": {
    "colab": {
      "provenance": []
    },
    "kernelspec": {
      "display_name": "Ambiente Python 3.13",
      "language": "python",
      "name": "ambiente_python3.13"
    },
    "language_info": {
      "codemirror_mode": {
        "name": "ipython",
        "version": 3
      },
      "file_extension": ".py",
      "mimetype": "text/x-python",
      "name": "python",
      "nbconvert_exporter": "python",
      "pygments_lexer": "ipython3",
      "version": "3.13.3"
    }
  },
  "nbformat": 4,
  "nbformat_minor": 0
}
